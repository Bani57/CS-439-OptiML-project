{
 "cells": [
  {
   "cell_type": "code",
   "execution_count": 1,
   "metadata": {
    "ExecuteTime": {
     "end_time": "2020-05-09T02:47:02.900125Z",
     "start_time": "2020-05-09T02:47:01.495146Z"
    }
   },
   "outputs": [],
   "source": [
    "import numpy as np\n",
    "import torch\n",
    "from torch import nn\n",
    "from torch.nn import functional as F\n",
    "from torch.optim import SGD, Adam\n",
    "from torchvision import datasets\n",
    "from sklearn.model_selection import train_test_split\n",
    "from matplotlib import pyplot as plt\n",
    "import seaborn as sns"
   ]
  },
  {
   "cell_type": "code",
   "execution_count": 2,
   "metadata": {
    "ExecuteTime": {
     "end_time": "2020-05-09T02:47:02.907078Z",
     "start_time": "2020-05-09T02:47:02.901062Z"
    }
   },
   "outputs": [],
   "source": [
    "seed = 1\n",
    "np.random.seed(seed)\n",
    "torch.manual_seed(seed)\n",
    "torch.cuda.manual_seed_all(seed)\n",
    "torch.backends.cudnn.deterministic = True\n",
    "torch.backends.cudnn.benchmark = False"
   ]
  },
  {
   "cell_type": "code",
   "execution_count": 3,
   "metadata": {
    "ExecuteTime": {
     "end_time": "2020-05-09T02:47:03.031712Z",
     "start_time": "2020-05-09T02:47:02.909040Z"
    }
   },
   "outputs": [],
   "source": [
    "data_dir = \"./data/\"\n",
    "reduce_data_size = True\n",
    "\n",
    "mnist_train_set = datasets.MNIST(data_dir + 'mnist/',\n",
    "                                 train=True,\n",
    "                                 download=True)\n",
    "mnist_test_set = datasets.MNIST(data_dir + 'mnist/',\n",
    "                                train=False,\n",
    "                                download=True)\n",
    "\n",
    "mnist_train_input = mnist_train_set.data.view(-1, 1, 28, 28).float()\n",
    "mnist_train_target = mnist_train_set.targets\n",
    "mnist_test_input = mnist_test_set.data.view(-1, 1, 28, 28).float()\n",
    "mnist_test_target = mnist_test_set.targets\n",
    "\n",
    "fashion_mnist_train_set = datasets.FashionMNIST(data_dir + 'fashion_mnist/',\n",
    "                                                train=True,\n",
    "                                                download=True)\n",
    "fashion_mnist_test_set = datasets.FashionMNIST(data_dir + 'fashion_mnist/',\n",
    "                                               train=False,\n",
    "                                               download=True)\n",
    "\n",
    "fashion_mnist_train_input = fashion_mnist_train_set.data.view(-1, 1, 28, 28).float()\n",
    "fashion_mnist_train_target = fashion_mnist_train_set.targets\n",
    "fashion_mnist_test_input = fashion_mnist_test_set.data.view(-1, 1, 28, 28).float()\n",
    "fashion_mnist_test_target = fashion_mnist_test_set.targets"
   ]
  },
  {
   "cell_type": "code",
   "execution_count": 4,
   "metadata": {
    "ExecuteTime": {
     "end_time": "2020-05-09T02:47:03.037697Z",
     "start_time": "2020-05-09T02:47:03.032710Z"
    }
   },
   "outputs": [],
   "source": [
    "def standardize_data(train_input, test_input):\n",
    "    mean, std = train_input.mean(), train_input.std()\n",
    "\n",
    "    return (train_input - mean) / std, (test_input - mean) / std"
   ]
  },
  {
   "cell_type": "code",
   "execution_count": 5,
   "metadata": {
    "ExecuteTime": {
     "end_time": "2020-05-09T02:47:03.048666Z",
     "start_time": "2020-05-09T02:47:03.039691Z"
    }
   },
   "outputs": [],
   "source": [
    "def sample_mnist_dataset(input_data, target_data, reduced_num_samples=1000):\n",
    "    reduced_input_data, _, reduced_target_data, _ = train_test_split(input_data, target_data,\n",
    "                                                                     train_size=reduced_num_samples,\n",
    "                                                                     random_state=1,\n",
    "                                                                     shuffle=True,\n",
    "                                                                     stratify=target_data)\n",
    "    return reduced_input_data, reduced_target_data"
   ]
  },
  {
   "cell_type": "code",
   "execution_count": 6,
   "metadata": {
    "ExecuteTime": {
     "end_time": "2020-05-09T02:47:03.061667Z",
     "start_time": "2020-05-09T02:47:03.049663Z"
    }
   },
   "outputs": [],
   "source": [
    "class MnistClassifier(nn.Module):\n",
    "    def __init__(self, mini_batch_size=100):\n",
    "        nn.Module.__init__(self)\n",
    "        self.conv1 = nn.Conv2d(in_channels=1, out_channels=16, kernel_size=3)\n",
    "        self.maxp1 = nn.MaxPool2d(kernel_size=2)\n",
    "        if mini_batch_size > 1:\n",
    "            self.bn1 = nn.BatchNorm2d(num_features=16)\n",
    "        self.conv2 = nn.Conv2d(in_channels=16, out_channels=32, kernel_size=4)\n",
    "        self.maxp2 = nn.MaxPool2d(kernel_size=2)\n",
    "        if mini_batch_size > 1:\n",
    "            self.bn2 = nn.BatchNorm2d(num_features=32)\n",
    "        self.conv3 = nn.Conv2d(in_channels=32, out_channels=64, kernel_size=5)\n",
    "        if mini_batch_size > 1:\n",
    "            self.bn3 = nn.BatchNorm1d(num_features=64)\n",
    "        self.fc1 = nn.Linear(in_features=64, out_features=256)\n",
    "        if mini_batch_size > 1:\n",
    "            self.bn4 = nn.BatchNorm1d(num_features=256)\n",
    "        self.fc2 = nn.Linear(in_features=256, out_features=10)\n",
    "\n",
    "    def forward(self, x):\n",
    "        mini_batch_size = x.size(0)\n",
    "        y = F.relu(self.maxp1(self.conv1(x)))\n",
    "        if mini_batch_size > 1:\n",
    "            y = self.bn1(y)\n",
    "        y = F.relu(self.maxp2(self.conv2(y)))\n",
    "        if mini_batch_size > 1:\n",
    "            y = self.bn2(y)\n",
    "        y = F.relu(self.conv3(y).view(-1, 64))\n",
    "        if mini_batch_size > 1:\n",
    "            y = self.bn3(y)\n",
    "        y = F.relu(self.fc1(y))\n",
    "        if mini_batch_size > 1:\n",
    "            y = self.bn4(y)\n",
    "        y = F.relu(self.fc2(y))\n",
    "        return y"
   ]
  },
  {
   "cell_type": "code",
   "execution_count": 7,
   "metadata": {
    "ExecuteTime": {
     "end_time": "2020-05-09T02:47:03.074597Z",
     "start_time": "2020-05-09T02:47:03.063628Z"
    }
   },
   "outputs": [],
   "source": [
    "def deep_model_param_loss_gradients_to_flat_vector(model_params):\n",
    "    return torch.cat([param.grad.view(-1).cpu() for param in model_params])"
   ]
  },
  {
   "cell_type": "code",
   "execution_count": 8,
   "metadata": {
    "ExecuteTime": {
     "end_time": "2020-05-09T02:47:03.096049Z",
     "start_time": "2020-05-09T02:47:03.076644Z"
    }
   },
   "outputs": [],
   "source": [
    "class SgdToHalf(torch.optim.Optimizer):\n",
    "    def __init__(self, params, lr, burn_in=10):\n",
    "        self.params = params\n",
    "        self.lr = lr\n",
    "        self.burn_in = burn_in\n",
    "        self.n = 1\n",
    "        self.s = [0, ]\n",
    "        self.tau = 0\n",
    "        self.prev_grad = None\n",
    "        defaults = {\"lr\": lr, \"burn_in\": burn_in, \"n\": 1, \"s\": [0, ], \"tau\": 0, \"prev_grad\": None}\n",
    "        super(SgdToHalf, self).__init__(params, defaults)\n",
    "\n",
    "    def __setstate__(self, state):\n",
    "        super(SgdToHalf, self).__setstate__(state)\n",
    "        \n",
    "    @torch.no_grad()\n",
    "    def step(self, closure=None):\n",
    "        \"\"\"Performs a single optimization step.\n",
    "\n",
    "        Arguments:\n",
    "            closure (callable, optional): A closure that reevaluates the model\n",
    "                and returns the loss.\n",
    "        \"\"\"\n",
    "        loss = None\n",
    "        if closure is not None:\n",
    "            with torch.enable_grad():\n",
    "                loss = closure()\n",
    "\n",
    "        group = self.param_groups[0]\n",
    "        lr = group[\"lr\"]\n",
    "        burn_in = group[\"burn_in\"]\n",
    "        n = group[\"n\"]\n",
    "        s = float(group[\"s\"][-1])\n",
    "        tau = group[\"tau\"]\n",
    "        \n",
    "        params = group[\"params\"]\n",
    "        for p in params:\n",
    "            if p.grad is None:\n",
    "                continue\n",
    "            g_p = p.grad\n",
    "            p.add_(g_p, alpha=-lr)\n",
    "        \n",
    "        g = deep_model_param_loss_gradients_to_flat_vector(params)\n",
    "        if n == 1:\n",
    "            self.prev_grad = group[\"prev_grad\"] = torch.clone(g).detach()\n",
    "        else:\n",
    "            g_prev = group[\"prev_grad\"]\n",
    "            s += torch.dot(g.view(-1), g_prev.view(-1))\n",
    "            if n > (tau + burn_in) and s < 0:\n",
    "                self.tau = group[\"tau\"] = n\n",
    "                s = 0\n",
    "                self.lr = group[\"lr\"] = lr / 2\n",
    "            self.s.append(s)\n",
    "            group[\"s\"].append(s)\n",
    "            self.prev_grad = group[\"prev_grad\"] = torch.clone(g).detach()\n",
    "            \n",
    "        self.n = group[\"n\"] = n+1\n",
    "                \n",
    "        return loss\n",
    "\n",
    "    def converged(self):\n",
    "        return self.n > (self.tau + self.burn_in) and self.s[-1] < 0 and self.lr < 1e-10"
   ]
  },
  {
   "cell_type": "code",
   "execution_count": 9,
   "metadata": {
    "ExecuteTime": {
     "end_time": "2020-05-09T02:47:03.114001Z",
     "start_time": "2020-05-09T02:47:03.098045Z"
    }
   },
   "outputs": [],
   "source": [
    "def train_model(model, train_input, train_target,\n",
    "                num_epochs=25, lr=1e-1, mini_batch_size=100,\n",
    "                adam=False, sgd_new=False, criterion=nn.CrossEntropyLoss()):\n",
    "    if adam:\n",
    "        optimizer = Adam(model.parameters(), lr=lr)\n",
    "    else:\n",
    "        if sgd_new:\n",
    "            optimizer = SgdToHalf(model.parameters(), lr=lr)\n",
    "        else:\n",
    "            optimizer = SGD(model.parameters(), lr=lr)\n",
    "    criterion = criterion.cuda()\n",
    "    num_samples = train_input.size(0)\n",
    "    loss_gradients_series=[]\n",
    "    converged_early = False\n",
    "    for e in range(1, num_epochs+1):\n",
    "        if converged_early:\n",
    "            break\n",
    "        sum_loss=0\n",
    "        for b in range(0, num_samples, mini_batch_size):\n",
    "            train_input_mini_batch = train_input[b:min(b+mini_batch_size, num_samples)]\n",
    "            train_target_mini_batch = train_target[b:min(b+mini_batch_size, num_samples)]\n",
    "            optimizer.zero_grad()\n",
    "            prediction_mini_batch = model(train_input_mini_batch)\n",
    "            loss = criterion(prediction_mini_batch, train_target_mini_batch)\n",
    "            sum_loss += loss.item()\n",
    "            loss.backward()\n",
    "            with torch.no_grad():\n",
    "                loss_gradients = deep_model_param_loss_gradients_to_flat_vector(model.parameters())\n",
    "                loss_gradients_series.append(loss_gradients)\n",
    "            optimizer.step()\n",
    "            torch.cuda.empty_cache()\n",
    "            if sgd_new and optimizer.converged():\n",
    "                converged_early = True\n",
    "                break\n",
    "        print(\"Epoch {} Loss: {}\".format(e, sum_loss))\n",
    "    loss_gradients_series = torch.stack(loss_gradients_series)\n",
    "    if sgd_new:\n",
    "        print(\"Convergence reached at iteration:\", optimizer.tau)\n",
    "        print(\"Final learning rate value:\", optimizer.lr)\n",
    "        return model, loss_gradients_series, torch.FloatTensor(optimizer.s)\n",
    "    else:\n",
    "        return model, loss_gradients_series"
   ]
  },
  {
   "cell_type": "code",
   "execution_count": 10,
   "metadata": {
    "ExecuteTime": {
     "end_time": "2020-05-09T02:47:03.123974Z",
     "start_time": "2020-05-09T02:47:03.114998Z"
    }
   },
   "outputs": [],
   "source": [
    "def test_model(model, test_input, test_target):\n",
    "    model.train(False)\n",
    "    prediction = model(test_input)\n",
    "    predicted_labels = torch.argmax(prediction, dim=1)\n",
    "    if len(test_target.size()) > 1:\n",
    "        test_target = torch.argmax(test_target, dim=1)\n",
    "    accuracy = (predicted_labels == test_target).float().mean().item()\n",
    "    return accuracy"
   ]
  },
  {
   "cell_type": "code",
   "execution_count": 11,
   "metadata": {
    "ExecuteTime": {
     "end_time": "2020-05-09T02:47:03.134944Z",
     "start_time": "2020-05-09T02:47:03.124972Z"
    }
   },
   "outputs": [],
   "source": [
    "def estimate_convergence_threshold_phlug_diagnostic(loss_gradients_series, burn_in=1):\n",
    "    num_sgd_iterations_performed = len(loss_gradients_series)\n",
    "    s_series = [0, ]\n",
    "    convergence_threshold_set=False\n",
    "    convergence_threshold = np.inf\n",
    "    for n in range(1, num_sgd_iterations_performed):\n",
    "        s_n = s_series[n-1] + torch.dot(loss_gradients_series[n], loss_gradients_series[n-1]).item()\n",
    "        s_series.append(s_n)\n",
    "        if not convergence_threshold_set and n > burn_in and s_n < 0:\n",
    "            convergence_threshold = n\n",
    "            convergence_threshold_set = True\n",
    "    s_series = np.array(s_series)\n",
    "    return convergence_threshold, s_series"
   ]
  },
  {
   "cell_type": "code",
   "execution_count": 12,
   "metadata": {
    "ExecuteTime": {
     "end_time": "2020-05-09T02:47:04.696678Z",
     "start_time": "2020-05-09T02:47:03.136940Z"
    }
   },
   "outputs": [],
   "source": [
    "if reduce_data_size:\n",
    "    mnist_train_input, mnist_train_target = sample_mnist_dataset(mnist_train_input, mnist_train_target)\n",
    "    mnist_test_input, mnist_test_target = sample_mnist_dataset(mnist_test_input, mnist_test_target)\n",
    "mnist_train_input, mnist_test_input = standardize_data(mnist_train_input, mnist_test_input)\n",
    "mnist_train_input = mnist_train_input.cuda()\n",
    "mnist_train_target = mnist_train_target.cuda()\n",
    "mnist_test_input = mnist_test_input.cuda()\n",
    "mnist_test_target = mnist_test_target.cuda()"
   ]
  },
  {
   "cell_type": "code",
   "execution_count": 13,
   "metadata": {
    "ExecuteTime": {
     "end_time": "2020-05-09T02:47:10.548004Z",
     "start_time": "2020-05-09T02:47:04.697570Z"
    }
   },
   "outputs": [
    {
     "name": "stdout",
     "output_type": "stream",
     "text": [
      "Epoch 1 Loss: 12.220357537269592\n",
      "Epoch 2 Loss: 2.1943083330988884\n",
      "Epoch 3 Loss: 0.8293740153312683\n",
      "Epoch 4 Loss: 0.5036141946911812\n",
      "Epoch 5 Loss: 0.3781593982130289\n",
      "Epoch 6 Loss: 0.33714192174375057\n",
      "Epoch 7 Loss: 0.31823820620775223\n",
      "Epoch 8 Loss: 0.3095127120614052\n",
      "Epoch 9 Loss: 0.30516389943659306\n",
      "Epoch 10 Loss: 0.3029880169779062\n",
      "Epoch 11 Loss: 0.3018596265465021\n",
      "Epoch 12 Loss: 0.30128366127610207\n",
      "Epoch 13 Loss: 0.3009942974895239\n",
      "Epoch 14 Loss: 0.3008438013494015\n",
      "Epoch 15 Loss: 0.30076457001268864\n",
      "Epoch 16 Loss: 0.30071732215583324\n",
      "Epoch 17 Loss: 0.30069215409457684\n",
      "Epoch 18 Loss: 0.30067748203873634\n",
      "Epoch 19 Loss: 0.30066972970962524\n",
      "Epoch 20 Loss: 0.3006658498197794\n",
      "Epoch 21 Loss: 0.30066389963030815\n",
      "Epoch 22 Loss: 0.300662849098444\n",
      "Epoch 23 Loss: 0.3006624858826399\n",
      "Epoch 24 Loss: 0.3006623610854149\n",
      "Epoch 25 Loss: 0.30066232196986675\n",
      "Epoch 26 Loss: 0.30066230706870556\n",
      "Epoch 27 Loss: 0.30066229216754436\n",
      "Epoch 28 Loss: 0.3006622865796089\n",
      "Epoch 29 Loss: 0.30066228471696377\n",
      "Epoch 30 Loss: 0.3006622660905123\n",
      "Epoch 31 Loss: 0.3006622660905123\n",
      "Epoch 32 Loss: 0.300662262365222\n",
      "Epoch 33 Loss: 0.300662262365222\n",
      "Epoch 34 Loss: 0.300662262365222\n",
      "Epoch 35 Loss: 0.300662262365222\n",
      "Epoch 36 Loss: 0.300662262365222\n",
      "Epoch 37 Loss: 0.300662262365222\n",
      "Epoch 38 Loss: 0.11052641272544861\n",
      "Convergence reached at iteration: 363\n",
      "Final learning rate value: 5.820766091346741e-11\n"
     ]
    }
   ],
   "source": [
    "mini_batch_size=100\n",
    "mnist_model, mnist_training_loss_grads, mnist_s_series = train_model(MnistClassifier(mini_batch_size).cuda(),\n",
    "                                                                     mnist_train_input,\n",
    "                                                                     mnist_train_target,\n",
    "                                                                     lr=0.5,\n",
    "                                                                     num_epochs=100,\n",
    "                                                                     mini_batch_size=mini_batch_size,\n",
    "                                                                     sgd_new=True)"
   ]
  },
  {
   "cell_type": "code",
   "execution_count": 14,
   "metadata": {
    "ExecuteTime": {
     "end_time": "2020-05-09T02:47:10.569950Z",
     "start_time": "2020-05-09T02:47:10.549999Z"
    }
   },
   "outputs": [
    {
     "data": {
      "text/plain": [
       "0.9550000429153442"
      ]
     },
     "execution_count": 14,
     "metadata": {},
     "output_type": "execute_result"
    }
   ],
   "source": [
    "test_model(mnist_model, mnist_test_input, mnist_test_target)"
   ]
  },
  {
   "cell_type": "code",
   "execution_count": 15,
   "metadata": {
    "ExecuteTime": {
     "end_time": "2020-05-09T02:47:10.778610Z",
     "start_time": "2020-05-09T02:47:10.571941Z"
    }
   },
   "outputs": [
    {
     "data": {
      "image/png": "[encoded data removed]",
      "text/plain": [
       "<Figure size 720x360 with 1 Axes>"
      ]
     },
     "metadata": {
      "needs_background": "light"
     },
     "output_type": "display_data"
    }
   ],
   "source": [
    "plt.figure(figsize=(10, 5))\n",
    "sns.lineplot(data=mnist_s_series)\n",
    "plt.show()"
   ]
  },
  {
   "cell_type": "code",
   "execution_count": 16,
   "metadata": {
    "ExecuteTime": {
     "end_time": "2020-05-09T02:47:10.800558Z",
     "start_time": "2020-05-09T02:47:10.779608Z"
    }
   },
   "outputs": [
    {
     "data": {
      "text/plain": [
       "11"
      ]
     },
     "execution_count": 16,
     "metadata": {},
     "output_type": "execute_result"
    }
   ],
   "source": [
    "mnist_conv_thresh, mnist_s_series = estimate_convergence_threshold_phlug_diagnostic(mnist_training_loss_grads,\n",
    "                                                                                    burn_in=10)\n",
    "mnist_conv_thresh"
   ]
  },
  {
   "cell_type": "code",
   "execution_count": 17,
   "metadata": {
    "ExecuteTime": {
     "end_time": "2020-05-09T02:47:11.025050Z",
     "start_time": "2020-05-09T02:47:10.802554Z"
    }
   },
   "outputs": [
    {
     "data": {
      "image/png": "[encoded data removed]",
      "text/plain": [
       "<Figure size 720x360 with 1 Axes>"
      ]
     },
     "metadata": {
      "needs_background": "light"
     },
     "output_type": "display_data"
    }
   ],
   "source": [
    "plt.figure(figsize=(10, 5))\n",
    "sns.lineplot(data=mnist_s_series)\n",
    "plt.show()"
   ]
  },
  {
   "cell_type": "code",
   "execution_count": 18,
   "metadata": {
    "ExecuteTime": {
     "end_time": "2020-05-09T02:47:11.154703Z",
     "start_time": "2020-05-09T02:47:11.026048Z"
    }
   },
   "outputs": [],
   "source": [
    "if reduce_data_size:\n",
    "    fashion_mnist_train_input, fashion_mnist_train_target = sample_mnist_dataset(fashion_mnist_train_input,\n",
    "                                                                                 fashion_mnist_train_target)\n",
    "    fashion_mnist_test_input, fashion_mnist_test_target = sample_mnist_dataset(fashion_mnist_test_input,\n",
    "                                                                               fashion_mnist_test_target)\n",
    "fashion_mnist_train_input, fashion_mnist_test_input = standardize_data(fashion_mnist_train_input,\n",
    "                                                                       fashion_mnist_test_input)\n",
    "fashion_mnist_train_input = fashion_mnist_train_input.cuda()\n",
    "fashion_mnist_train_target = fashion_mnist_train_target.cuda()\n",
    "fashion_mnist_test_input = fashion_mnist_test_input.cuda()\n",
    "fashion_mnist_test_target = fashion_mnist_test_target.cuda()"
   ]
  },
  {
   "cell_type": "code",
   "execution_count": 19,
   "metadata": {
    "ExecuteTime": {
     "end_time": "2020-05-09T02:47:24.907816Z",
     "start_time": "2020-05-09T02:47:11.155701Z"
    }
   },
   "outputs": [
    {
     "name": "stdout",
     "output_type": "stream",
     "text": [
      "Epoch 1 Loss: 13.211354374885559\n",
      "Epoch 2 Loss: 6.4151251912117\n",
      "Epoch 3 Loss: 4.65219709277153\n",
      "Epoch 4 Loss: 3.489443004131317\n",
      "Epoch 5 Loss: 2.7199286967515945\n",
      "Epoch 6 Loss: 1.9340814054012299\n",
      "Epoch 7 Loss: 1.5432416200637817\n",
      "Epoch 8 Loss: 1.2332655563950539\n",
      "Epoch 9 Loss: 0.9953883290290833\n",
      "Epoch 10 Loss: 0.8141633868217468\n",
      "Epoch 11 Loss: 0.6748586148023605\n",
      "Epoch 12 Loss: 0.5690636299550533\n",
      "Epoch 13 Loss: 0.4892520010471344\n",
      "Epoch 14 Loss: 0.42744434624910355\n",
      "Epoch 15 Loss: 0.3779377844184637\n",
      "Epoch 16 Loss: 0.3394611570984125\n",
      "Epoch 17 Loss: 0.3076034691184759\n",
      "Epoch 18 Loss: 0.2816105652600527\n",
      "Epoch 19 Loss: 0.2586976960301399\n",
      "Epoch 20 Loss: 0.23997803777456284\n",
      "Epoch 21 Loss: 0.22377495747059584\n",
      "Epoch 22 Loss: 0.20905764121562243\n",
      "Epoch 23 Loss: 0.19659019634127617\n",
      "Epoch 24 Loss: 0.185500911436975\n",
      "Epoch 25 Loss: 0.17562928516417742\n",
      "Epoch 26 Loss: 0.1667641680687666\n",
      "Epoch 27 Loss: 0.15885075833648443\n",
      "Epoch 28 Loss: 0.15157821215689182\n",
      "Epoch 29 Loss: 0.1450312277302146\n",
      "Epoch 30 Loss: 0.13896978739649057\n",
      "Epoch 31 Loss: 0.1335286647081375\n",
      "Epoch 32 Loss: 0.12855697702616453\n",
      "Epoch 33 Loss: 0.12401514872908592\n",
      "Epoch 34 Loss: 0.1196868889965117\n",
      "Epoch 35 Loss: 0.115774882491678\n",
      "Epoch 36 Loss: 0.11219053529202938\n",
      "Epoch 37 Loss: 0.10870940843597054\n",
      "Epoch 38 Loss: 0.10561906546354294\n",
      "Epoch 39 Loss: 0.10264650359749794\n",
      "Epoch 40 Loss: 0.09997552260756493\n",
      "Epoch 41 Loss: 0.09731670003384352\n",
      "Epoch 42 Loss: 0.09488242026418447\n",
      "Epoch 43 Loss: 0.09275522129610181\n",
      "Epoch 44 Loss: 0.09050199016928673\n",
      "Epoch 45 Loss: 0.08857747772708535\n",
      "Epoch 46 Loss: 0.08663728274405003\n",
      "Epoch 47 Loss: 0.08491403656080365\n",
      "Epoch 48 Loss: 0.08323732577264309\n",
      "Epoch 49 Loss: 0.08145509799942374\n",
      "Epoch 50 Loss: 0.08008987363427877\n",
      "Epoch 51 Loss: 0.07873617252334952\n",
      "Epoch 52 Loss: 0.07714144280180335\n",
      "Epoch 53 Loss: 0.0760227576829493\n",
      "Epoch 54 Loss: 0.07454204326495528\n",
      "Epoch 55 Loss: 0.07368010631762445\n",
      "Epoch 56 Loss: 0.07226107572205365\n",
      "Epoch 57 Loss: 0.07120469422079623\n",
      "Epoch 58 Loss: 0.0702981511130929\n",
      "Epoch 59 Loss: 0.06922515481710434\n",
      "Epoch 60 Loss: 0.06820472609251738\n",
      "Epoch 61 Loss: 0.06726777320727706\n",
      "Epoch 62 Loss: 0.06631193123757839\n",
      "Epoch 63 Loss: 0.06551339570432901\n",
      "Epoch 64 Loss: 0.06465030694380403\n",
      "Epoch 65 Loss: 0.06385397398844361\n",
      "Epoch 66 Loss: 0.06310178502462804\n",
      "Epoch 67 Loss: 0.06244349363259971\n",
      "Epoch 68 Loss: 0.06172526581212878\n",
      "Epoch 69 Loss: 0.06109809409826994\n",
      "Epoch 70 Loss: 0.06035901024006307\n",
      "Epoch 71 Loss: 0.05967996967956424\n",
      "Epoch 72 Loss: 0.05910899885930121\n",
      "Epoch 73 Loss: 0.058558725751936436\n",
      "Epoch 74 Loss: 0.057967054191976786\n",
      "Epoch 75 Loss: 0.05737749580293894\n",
      "Epoch 76 Loss: 0.056838559452444315\n",
      "Epoch 77 Loss: 0.0562894472386688\n",
      "Epoch 78 Loss: 0.05578119680285454\n",
      "Epoch 79 Loss: 0.05528355133719742\n",
      "Epoch 80 Loss: 0.05488382116891444\n",
      "Epoch 81 Loss: 0.0543751718942076\n",
      "Epoch 82 Loss: 0.053954158909618855\n",
      "Epoch 83 Loss: 0.05341146909631789\n",
      "Epoch 84 Loss: 0.052968874806538224\n",
      "Epoch 85 Loss: 0.0525489142164588\n",
      "Epoch 86 Loss: 0.05213631200604141\n",
      "Epoch 87 Loss: 0.051741356728598475\n",
      "Epoch 88 Loss: 0.051368074025958776\n",
      "Epoch 89 Loss: 0.05114310281351209\n",
      "Epoch 90 Loss: 0.05063795135356486\n",
      "Epoch 91 Loss: 0.05029361299239099\n",
      "Epoch 92 Loss: 0.04993557836860418\n",
      "Epoch 93 Loss: 0.04958493309095502\n",
      "Epoch 94 Loss: 0.049247703747823834\n",
      "Epoch 95 Loss: 0.048915128223598\n",
      "Epoch 96 Loss: 0.0485995679628104\n",
      "Epoch 97 Loss: 0.04830824164673686\n",
      "Epoch 98 Loss: 0.04805985256098211\n",
      "Epoch 99 Loss: 0.0478553082793951\n",
      "Epoch 100 Loss: 0.047445629024878144\n",
      "Convergence reached at iteration: 49\n",
      "Final learning rate value: 0.025\n"
     ]
    }
   ],
   "source": [
    "fashion_mnist_model, fashion_mnist_training_loss_grads, fashion_mnist_s_series = train_model(MnistClassifier(mini_batch_size).cuda(),\n",
    "                                                                                             fashion_mnist_train_input,\n",
    "                                                                                             fashion_mnist_train_target,\n",
    "                                                                                             lr=0.05,\n",
    "                                                                                             num_epochs=100,\n",
    "                                                                                             mini_batch_size=mini_batch_size,\n",
    "                                                                                             sgd_new=True)"
   ]
  },
  {
   "cell_type": "code",
   "execution_count": 20,
   "metadata": {
    "ExecuteTime": {
     "end_time": "2020-05-09T02:47:24.925732Z",
     "start_time": "2020-05-09T02:47:24.908779Z"
    }
   },
   "outputs": [
    {
     "data": {
      "text/plain": [
       "0.7950000166893005"
      ]
     },
     "execution_count": 20,
     "metadata": {},
     "output_type": "execute_result"
    }
   ],
   "source": [
    "test_model(fashion_mnist_model, fashion_mnist_test_input, fashion_mnist_test_target)"
   ]
  },
  {
   "cell_type": "code",
   "execution_count": 21,
   "metadata": {
    "ExecuteTime": {
     "end_time": "2020-05-09T02:47:25.142663Z",
     "start_time": "2020-05-09T02:47:24.927276Z"
    }
   },
   "outputs": [
    {
     "data": {
      "image/png": "[encoded data removed]",
      "text/plain": [
       "<Figure size 720x360 with 1 Axes>"
      ]
     },
     "metadata": {
      "needs_background": "light"
     },
     "output_type": "display_data"
    }
   ],
   "source": [
    "plt.figure(figsize=(10, 5))\n",
    "sns.lineplot(data=fashion_mnist_s_series)\n",
    "plt.show()"
   ]
  },
  {
   "cell_type": "code",
   "execution_count": 22,
   "metadata": {
    "ExecuteTime": {
     "end_time": "2020-05-09T02:47:25.184551Z",
     "start_time": "2020-05-09T02:47:25.145653Z"
    }
   },
   "outputs": [
    {
     "data": {
      "text/plain": [
       "48"
      ]
     },
     "execution_count": 22,
     "metadata": {},
     "output_type": "execute_result"
    }
   ],
   "source": [
    "fashion_mnist_conv_thresh, fashion_mnist_s_series = estimate_convergence_threshold_phlug_diagnostic(fashion_mnist_training_loss_grads,\n",
    "                                                                                                    burn_in=10)\n",
    "fashion_mnist_conv_thresh"
   ]
  },
  {
   "cell_type": "code",
   "execution_count": 23,
   "metadata": {
    "ExecuteTime": {
     "end_time": "2020-05-09T02:47:25.487592Z",
     "start_time": "2020-05-09T02:47:25.187541Z"
    }
   },
   "outputs": [
    {
     "data": {
      "image/png": "[encoded data removed]",
      "text/plain": [
       "<Figure size 720x360 with 1 Axes>"
      ]
     },
     "metadata": {
      "needs_background": "light"
     },
     "output_type": "display_data"
    }
   ],
   "source": [
    "plt.figure(figsize=(10, 5))\n",
    "sns.lineplot(data=fashion_mnist_s_series)\n",
    "plt.show()"
   ]
  },
  {
   "cell_type": "code",
   "execution_count": 24,
   "metadata": {
    "ExecuteTime": {
     "end_time": "2020-05-09T02:47:25.493570Z",
     "start_time": "2020-05-09T02:47:25.488559Z"
    }
   },
   "outputs": [],
   "source": [
    "def generate_simple_linear_classification_dataset(num_samples=1000, num_features=10, onehot_targets=False):\n",
    "    input_data = torch.empty(num_samples*2, num_features).uniform_(-1, 1)\n",
    "    target_data = (input_data.mean(dim=1) > 0).long()\n",
    "    if onehot_targets:\n",
    "        target_data = F.one_hot(target_data, num_classes=2).float()\n",
    "    return input_data[:num_samples], target_data[:num_samples], input_data[num_samples:], target_data[num_samples:]"
   ]
  },
  {
   "cell_type": "code",
   "execution_count": 25,
   "metadata": {
    "ExecuteTime": {
     "end_time": "2020-05-09T02:47:25.506508Z",
     "start_time": "2020-05-09T02:47:25.494544Z"
    }
   },
   "outputs": [],
   "source": [
    "linear_train_input, linear_train_target, linear_test_input, linear_test_target = generate_simple_linear_classification_dataset(onehot_targets=True)\n",
    "linear_train_input, linear_test_input = standardize_data(linear_train_input, linear_test_input)\n",
    "linear_train_input = linear_train_input.cuda()\n",
    "linear_train_target = linear_train_target.cuda()\n",
    "linear_test_input = linear_test_input.cuda()\n",
    "linear_test_target = linear_test_target.cuda()"
   ]
  },
  {
   "cell_type": "code",
   "execution_count": 26,
   "metadata": {
    "ExecuteTime": {
     "end_time": "2020-05-09T02:47:26.582168Z",
     "start_time": "2020-05-09T02:47:25.507506Z"
    }
   },
   "outputs": [
    {
     "name": "stdout",
     "output_type": "stream",
     "text": [
      "Epoch 1 Loss: 0.870960894972086\n",
      "Epoch 2 Loss: 0.4488200806081295\n",
      "Epoch 3 Loss: 0.37588435411453247\n",
      "Epoch 4 Loss: 0.3350998219102621\n",
      "Epoch 5 Loss: 0.3075245749205351\n",
      "Epoch 6 Loss: 0.28581355698406696\n",
      "Epoch 7 Loss: 0.26825895346701145\n",
      "Epoch 8 Loss: 0.2598079200834036\n",
      "Epoch 9 Loss: 0.25545332208275795\n",
      "Epoch 10 Loss: 0.2532663643360138\n",
      "Epoch 11 Loss: 0.2521296087652445\n",
      "Epoch 12 Loss: 0.2515304312109947\n",
      "Epoch 13 Loss: 0.25124859996140003\n",
      "Epoch 14 Loss: 0.25108078867197037\n",
      "Epoch 15 Loss: 0.25099143013358116\n",
      "Epoch 16 Loss: 0.2509461008012295\n",
      "Epoch 17 Loss: 0.25092254020273685\n",
      "Epoch 18 Loss: 0.25090973265469074\n",
      "Epoch 19 Loss: 0.25090260058641434\n",
      "Epoch 20 Loss: 0.2508986368775368\n",
      "Epoch 21 Loss: 0.2508965954184532\n",
      "Epoch 22 Loss: 0.2508955132216215\n",
      "Epoch 23 Loss: 0.2508949376642704\n",
      "Epoch 24 Loss: 0.2508946694433689\n",
      "Epoch 25 Loss: 0.2508945111185312\n",
      "Epoch 26 Loss: 0.25089440681040287\n",
      "Epoch 27 Loss: 0.2508943732827902\n",
      "Epoch 28 Loss: 0.25089435651898384\n",
      "Epoch 29 Loss: 0.25089434906840324\n",
      "Epoch 30 Loss: 0.25089434906840324\n",
      "Epoch 31 Loss: 0.25089434906840324\n",
      "Epoch 32 Loss: 0.25089434906840324\n",
      "Epoch 33 Loss: 0.25089434906840324\n",
      "Epoch 34 Loss: 0.25089434906840324\n",
      "Epoch 35 Loss: 0.25089434906840324\n",
      "Epoch 36 Loss: 0.25089434906840324\n",
      "Epoch 37 Loss: 0.25089434906840324\n",
      "Epoch 38 Loss: 0.25089434906840324\n",
      "Epoch 39 Loss: 0.25089434906840324\n",
      "Epoch 40 Loss: 0.25089434906840324\n",
      "Epoch 41 Loss: 0.25089434906840324\n",
      "Epoch 42 Loss: 0.25089434906840324\n",
      "Epoch 43 Loss: 0.25089434906840324\n",
      "Epoch 44 Loss: 0.25089434906840324\n",
      "Epoch 45 Loss: 0.25089434906840324\n",
      "Epoch 46 Loss: 0.25089434906840324\n",
      "Epoch 47 Loss: 0.25089434906840324\n",
      "Epoch 48 Loss: 0.052390081807971\n",
      "Convergence reached at iteration: 462\n",
      "Final learning rate value: 5.4569682106375694e-11\n"
     ]
    }
   ],
   "source": [
    "linear_model, linear_training_loss_grads, linear_s_series = train_model(nn.Sequential(nn.Linear(10, 2), nn.Sigmoid()).cuda(),\n",
    "                                                                        linear_train_input,\n",
    "                                                                        linear_train_target,\n",
    "                                                                        sgd_new=True,\n",
    "                                                                        num_epochs=100,\n",
    "                                                                        lr=15, mini_batch_size=100,\n",
    "                                                                        criterion=nn.MSELoss())"
   ]
  },
  {
   "cell_type": "code",
   "execution_count": 27,
   "metadata": {
    "ExecuteTime": {
     "end_time": "2020-05-09T02:47:26.590146Z",
     "start_time": "2020-05-09T02:47:26.583165Z"
    }
   },
   "outputs": [
    {
     "data": {
      "text/plain": [
       "0.9850000739097595"
      ]
     },
     "execution_count": 27,
     "metadata": {},
     "output_type": "execute_result"
    }
   ],
   "source": [
    "test_model(linear_model, linear_test_input, linear_test_target)"
   ]
  },
  {
   "cell_type": "code",
   "execution_count": 28,
   "metadata": {
    "ExecuteTime": {
     "end_time": "2020-05-09T02:47:26.808423Z",
     "start_time": "2020-05-09T02:47:26.591143Z"
    }
   },
   "outputs": [
    {
     "data": {
      "image/png": "[encoded data removed]",
      "text/plain": [
       "<Figure size 720x360 with 1 Axes>"
      ]
     },
     "metadata": {
      "needs_background": "light"
     },
     "output_type": "display_data"
    }
   ],
   "source": [
    "plt.figure(figsize=(10, 5))\n",
    "sns.lineplot(data=linear_s_series)\n",
    "plt.show()"
   ]
  },
  {
   "cell_type": "code",
   "execution_count": 29,
   "metadata": {
    "ExecuteTime": {
     "end_time": "2020-05-09T02:47:26.820366Z",
     "start_time": "2020-05-09T02:47:26.809397Z"
    }
   },
   "outputs": [
    {
     "data": {
      "text/plain": [
       "54"
      ]
     },
     "execution_count": 29,
     "metadata": {},
     "output_type": "execute_result"
    }
   ],
   "source": [
    "linear_conv_thresh, linear_s_series = estimate_convergence_threshold_phlug_diagnostic(linear_training_loss_grads,\n",
    "                                                                                      burn_in=10)\n",
    "linear_conv_thresh"
   ]
  },
  {
   "cell_type": "code",
   "execution_count": 30,
   "metadata": {
    "ExecuteTime": {
     "end_time": "2020-05-09T02:47:27.004905Z",
     "start_time": "2020-05-09T02:47:26.821365Z"
    }
   },
   "outputs": [
    {
     "data": {
      "image/png": "[encoded data removed]",
      "text/plain": [
       "<Figure size 720x360 with 1 Axes>"
      ]
     },
     "metadata": {
      "needs_background": "light"
     },
     "output_type": "display_data"
    }
   ],
   "source": [
    "plt.figure(figsize=(10, 5))\n",
    "sns.lineplot(data=linear_s_series)\n",
    "plt.show()"
   ]
  }
 ],
 "metadata": {
  "kernelspec": {
   "display_name": "Python 3",
   "language": "python",
   "name": "python3"
  },
  "language_info": {
   "codemirror_mode": {
    "name": "ipython",
    "version": 3
   },
   "file_extension": ".py",
   "mimetype": "text/x-python",
   "name": "python",
   "nbconvert_exporter": "python",
   "pygments_lexer": "ipython3",
   "version": "3.7.1"
  },
  "toc": {
   "base_numbering": 1,
   "nav_menu": {},
   "number_sections": false,
   "sideBar": true,
   "skip_h1_title": false,
   "title_cell": "Table of Contents",
   "title_sidebar": "Contents",
   "toc_cell": false,
   "toc_position": {},
   "toc_section_display": true,
   "toc_window_display": false
  },
  "varInspector": {
   "cols": {
    "lenName": 16,
    "lenType": 16,
    "lenVar": 40
   },
   "kernels_config": {
    "python": {
     "delete_cmd_postfix": "",
     "delete_cmd_prefix": "del ",
     "library": "var_list.py",
     "varRefreshCmd": "print(var_dic_list())"
    },
    "r": {
     "delete_cmd_postfix": ") ",
     "delete_cmd_prefix": "rm(",
     "library": "var_list.r",
     "varRefreshCmd": "cat(var_dic_list()) "
    }
   },
   "types_to_exclude": [
    "module",
    "function",
    "builtin_function_or_method",
    "instance",
    "_Feature"
   ],
   "window_display": false
  }
 },
 "nbformat": 4,
 "nbformat_minor": 4
}
