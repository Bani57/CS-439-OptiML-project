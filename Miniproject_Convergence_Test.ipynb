{
 "cells": [
  {
   "cell_type": "code",
   "execution_count": 1,
   "metadata": {
    "ExecuteTime": {
     "end_time": "2020-05-05T12:09:47.891482Z",
     "start_time": "2020-05-05T12:09:43.756514Z"
    }
   },
   "outputs": [],
   "source": [
    "import numpy as np\n",
    "import torch\n",
    "from torch import nn\n",
    "from torch.nn import functional as F\n",
    "from torch.optim import SGD, Adam\n",
    "from torchvision import datasets, transforms\n",
    "from matplotlib import pyplot as plt\n",
    "import seaborn as sns"
   ]
  },
  {
   "cell_type": "code",
   "execution_count": 2,
   "metadata": {
    "ExecuteTime": {
     "end_time": "2020-05-05T12:09:47.904448Z",
     "start_time": "2020-05-05T12:09:47.893477Z"
    }
   },
   "outputs": [],
   "source": [
    "np.random.seed(1)\n",
    "torch.manual_seed(1)\n",
    "torch.cuda.manual_seed_all(1)\n",
    "torch.backends.cudnn.deterministic = True\n",
    "torch.backends.cudnn.benchmark = False"
   ]
  },
  {
   "cell_type": "code",
   "execution_count": 3,
   "metadata": {
    "ExecuteTime": {
     "end_time": "2020-05-05T12:09:49.234194Z",
     "start_time": "2020-05-05T12:09:47.907440Z"
    }
   },
   "outputs": [],
   "source": [
    "data_dir = \"./data/\"\n",
    "\n",
    "\n",
    "mnist_train_set = datasets.MNIST(data_dir + 'mnist/', train = True, download = True)\n",
    "mnist_test_set = datasets.MNIST(data_dir + 'mnist/', train = False, download = True)\n",
    "\n",
    "mnist_train_input = mnist_train_set.data.view(-1, 1, 28, 28).float()\n",
    "mnist_train_target = mnist_train_set.targets\n",
    "mnist_test_input = mnist_test_set.data.view(-1, 1, 28, 28).float()\n",
    "mnist_test_target = mnist_test_set.targets\n",
    "\n",
    "\n",
    "fashion_mnist_train_set = datasets.FashionMNIST(data_dir + 'fashion_mnist/', train = True, download = True)\n",
    "fashion_mnist_test_set = datasets.FashionMNIST(data_dir + 'fashion_mnist/', train = False, download = True)\n",
    "\n",
    "fashion_mnist_train_input = fashion_mnist_train_set.data.view(-1, 1, 28, 28).float()\n",
    "fashion_mnist_train_target = fashion_mnist_train_set.targets\n",
    "fashion_mnist_test_input = fashion_mnist_test_set.data.view(-1, 1, 28, 28).float()\n",
    "fashion_mnist_test_target = fashion_mnist_test_set.targets"
   ]
  },
  {
   "cell_type": "code",
   "execution_count": 4,
   "metadata": {
    "ExecuteTime": {
     "end_time": "2020-05-05T12:09:49.240180Z",
     "start_time": "2020-05-05T12:09:49.235192Z"
    }
   },
   "outputs": [],
   "source": [
    "def standardize_data(train_input, test_input):\n",
    "    mean, std = train_input.mean(), train_input.std()\n",
    "    \n",
    "    return (train_input - mean) / std, (test_input - mean) / std"
   ]
  },
  {
   "cell_type": "code",
   "execution_count": 5,
   "metadata": {
    "ExecuteTime": {
     "end_time": "2020-05-05T12:09:49.260127Z",
     "start_time": "2020-05-05T12:09:49.242175Z"
    }
   },
   "outputs": [],
   "source": [
    "class MnistClassifier(nn.Module):\n",
    "    def __init__(self):\n",
    "        nn.Module.__init__(self)\n",
    "        self.conv1 = nn.Conv2d(in_channels=1, out_channels=16, kernel_size=3)\n",
    "        self.maxp1 = nn.MaxPool2d(kernel_size=2)\n",
    "        self.bn1 = nn.BatchNorm2d(num_features=16)\n",
    "        self.conv2 = nn.Conv2d(in_channels=16, out_channels=32, kernel_size=4)\n",
    "        self.maxp2 = nn.MaxPool2d(kernel_size=2)\n",
    "        self.bn2 = nn.BatchNorm2d(num_features=32)\n",
    "        self.conv3 = nn.Conv2d(in_channels=32, out_channels=64, kernel_size=5)\n",
    "        self.bn3 = nn.BatchNorm1d(num_features=64)\n",
    "        self.fc1 = nn.Linear(in_features=64, out_features=256)\n",
    "        self.bn4 = nn.BatchNorm1d(num_features=256)\n",
    "        self.fc2 = nn.Linear(in_features=256, out_features=10)\n",
    "    def forward(self, x):\n",
    "        y = self.bn1(F.relu(self.maxp1(self.conv1(x))))\n",
    "        y = self.bn2(F.relu(self.maxp2(self.conv2(y))))\n",
    "        y = self.bn3(F.relu(self.conv3(y).view(-1, 64)))\n",
    "        y = self.bn4(F.relu(self.fc1(y)))\n",
    "        y = F.relu(self.fc2(y))\n",
    "        return y"
   ]
  },
  {
   "cell_type": "code",
   "execution_count": 6,
   "metadata": {
    "ExecuteTime": {
     "end_time": "2020-05-05T12:09:49.270100Z",
     "start_time": "2020-05-05T12:09:49.262121Z"
    }
   },
   "outputs": [],
   "source": [
    "def deep_model_param_loss_gradients_to_flat_vector(model_params):\n",
    "    return torch.cat([param.grad.view(-1).cpu() for param in model_params])"
   ]
  },
  {
   "cell_type": "code",
   "execution_count": 7,
   "metadata": {
    "ExecuteTime": {
     "end_time": "2020-05-05T12:09:49.292042Z",
     "start_time": "2020-05-05T12:09:49.272094Z"
    }
   },
   "outputs": [],
   "source": [
    "class SgdToHalf(torch.optim.Optimizer):\n",
    "    def __init__(self, params, lr, burn_in=10):\n",
    "        self.params = params\n",
    "        self.lr = lr\n",
    "        self.burn_in = burn_in\n",
    "        self.n = 1\n",
    "        self.s = [0, ]\n",
    "        self.tau = 0\n",
    "        self.prev_grad = None\n",
    "        defaults = {\"lr\": lr, \"burn_in\": burn_in, \"n\": 1, \"s\": [0, ], \"tau\": 0, \"prev_grad\": None}\n",
    "        super(SgdToHalf, self).__init__(params, defaults)\n",
    "\n",
    "    def __setstate__(self, state):\n",
    "        super(SgdToHalf, self).__setstate__(state)\n",
    "        \n",
    "    @torch.no_grad()\n",
    "    def step(self, closure=None):\n",
    "        \"\"\"Performs a single optimization step.\n",
    "\n",
    "        Arguments:\n",
    "            closure (callable, optional): A closure that reevaluates the model\n",
    "                and returns the loss.\n",
    "        \"\"\"\n",
    "        loss = None\n",
    "        if closure is not None:\n",
    "            with torch.enable_grad():\n",
    "                loss = closure()\n",
    "\n",
    "        group = self.param_groups[0]\n",
    "        lr = group[\"lr\"]\n",
    "        burn_in = group[\"burn_in\"]\n",
    "        n = group[\"n\"]\n",
    "        s = float(group[\"s\"][-1])\n",
    "        tau = group[\"tau\"]\n",
    "        \n",
    "        params = group[\"params\"]\n",
    "        for p in params:\n",
    "            if p.grad is None:\n",
    "                continue\n",
    "            g_p = p.grad\n",
    "            p.add_(g_p, alpha=-lr)\n",
    "        \n",
    "        g = deep_model_param_loss_gradients_to_flat_vector(params)\n",
    "        if n == 1:\n",
    "            self.prev_grad = group[\"prev_grad\"] = torch.clone(g).detach()\n",
    "        else:\n",
    "            g_prev = group[\"prev_grad\"]\n",
    "            s += torch.dot(g.view(-1), g_prev.view(-1))\n",
    "            if n > (tau + burn_in) and s < 0:\n",
    "                self.tau = group[\"tau\"] = n\n",
    "                s = 0\n",
    "                self.lr = group[\"lr\"] = lr / 2\n",
    "            self.s.append(s)\n",
    "            group[\"s\"].append(s)\n",
    "            self.prev_grad = group[\"prev_grad\"] = torch.clone(g).detach()\n",
    "            \n",
    "        self.n = group[\"n\"] = n+1\n",
    "                \n",
    "        return loss\n",
    "\n",
    "    def converged(self):\n",
    "        return self.n > (self.tau + self.burn_in) and self.s[-1] < 0 and self.lr < 1e-10"
   ]
  },
  {
   "cell_type": "code",
   "execution_count": 8,
   "metadata": {
    "ExecuteTime": {
     "end_time": "2020-05-05T12:09:49.306005Z",
     "start_time": "2020-05-05T12:09:49.294036Z"
    }
   },
   "outputs": [],
   "source": [
    "def train_model(model, train_input, train_target, num_epochs=25, lr=1e-1, mini_batch_size=6000, adam=False, sgd_new=False, criterion=nn.CrossEntropyLoss()):\n",
    "    if adam:\n",
    "        optimizer = Adam(model.parameters(), lr=lr)\n",
    "    else:\n",
    "        if sgd_new:\n",
    "            optimizer = SgdToHalf(model.parameters(), lr=lr)\n",
    "        else:\n",
    "            optimizer = SGD(model.parameters(), lr=lr)\n",
    "    criterion = criterion.cuda()\n",
    "    num_samples = train_input.size(0)\n",
    "    loss_gradients_series=[]\n",
    "    converged_early = False\n",
    "    for e in range(1, num_epochs+1):\n",
    "        if converged_early:\n",
    "            break\n",
    "        sum_loss=0\n",
    "        for b in range(0, num_samples, mini_batch_size):\n",
    "            train_input_mini_batch = train_input[b:min(b+mini_batch_size, num_samples)]\n",
    "            train_target_mini_batch = train_target[b:min(b+mini_batch_size, num_samples)]\n",
    "            optimizer.zero_grad()\n",
    "            prediction_mini_batch = model(train_input_mini_batch)\n",
    "            loss = criterion(prediction_mini_batch, train_target_mini_batch)\n",
    "            sum_loss += loss.item()\n",
    "            loss.backward()\n",
    "            with torch.no_grad():\n",
    "                loss_gradients = deep_model_param_loss_gradients_to_flat_vector(model.parameters())\n",
    "                loss_gradients_series.append(loss_gradients)\n",
    "            optimizer.step()\n",
    "            torch.cuda.empty_cache()\n",
    "            if sgd_new and optimizer.converged():\n",
    "                converged_early = True\n",
    "                break\n",
    "        print(\"Epoch {} Loss: {}\".format(e, sum_loss))\n",
    "    loss_gradients_series = torch.stack(loss_gradients_series)\n",
    "    if sgd_new:\n",
    "        return model, loss_gradients_series, torch.FloatTensor(optimizer.s)\n",
    "    else:\n",
    "        return model, loss_gradients_series"
   ]
  },
  {
   "cell_type": "code",
   "execution_count": 9,
   "metadata": {
    "ExecuteTime": {
     "end_time": "2020-05-05T12:09:49.316003Z",
     "start_time": "2020-05-05T12:09:49.308000Z"
    }
   },
   "outputs": [],
   "source": [
    "def test_model(model, test_input, test_target):\n",
    "    model.train(False)\n",
    "    prediction = model(test_input)\n",
    "    predicted_labels = torch.argmax(prediction, dim=1)\n",
    "    if len(test_target.size()) > 1:\n",
    "        test_target = torch.argmax(test_target, dim=1)\n",
    "    accuracy = (predicted_labels == test_target).float().mean().item()\n",
    "    return accuracy"
   ]
  },
  {
   "cell_type": "code",
   "execution_count": 10,
   "metadata": {
    "ExecuteTime": {
     "end_time": "2020-05-05T12:09:49.326948Z",
     "start_time": "2020-05-05T12:09:49.316974Z"
    }
   },
   "outputs": [],
   "source": [
    "def estimate_convergence_threshold_phlug_diagnostic(loss_gradients_series, burn_in=1):\n",
    "    num_sgd_iterations_performed = len(loss_gradients_series)\n",
    "    s_series = [0, ]\n",
    "    convergence_threshold_set=False\n",
    "    convergence_threshold = np.inf\n",
    "    for n in range(1, num_sgd_iterations_performed):\n",
    "        s_n = s_series[n-1] + torch.dot(loss_gradients_series[n], loss_gradients_series[n-1]).item()\n",
    "        s_series.append(s_n)\n",
    "        if not convergence_threshold_set and n > burn_in and s_n < 0:\n",
    "            convergence_threshold = n\n",
    "            convergence_threshold_set = True\n",
    "    s_series = np.array(s_series)\n",
    "    return convergence_threshold, s_series"
   ]
  },
  {
   "cell_type": "code",
   "execution_count": 11,
   "metadata": {
    "ExecuteTime": {
     "end_time": "2020-05-05T12:09:53.261731Z",
     "start_time": "2020-05-05T12:09:49.327946Z"
    }
   },
   "outputs": [],
   "source": [
    "mnist_train_input, mnist_test_input = standardize_data(mnist_train_input, mnist_test_input)\n",
    "mnist_train_input = mnist_train_input.cuda()\n",
    "mnist_train_target = mnist_train_target.cuda()\n",
    "mnist_test_input = mnist_test_input.cuda()\n",
    "mnist_test_target = mnist_test_target.cuda()"
   ]
  },
  {
   "cell_type": "code",
   "execution_count": 29,
   "metadata": {
    "ExecuteTime": {
     "end_time": "2020-05-05T12:16:31.055698Z",
     "start_time": "2020-05-05T12:15:53.828173Z"
    }
   },
   "outputs": [
    {
     "name": "stdout",
     "output_type": "stream",
     "text": [
      "Epoch 1 Loss: 6.877744995057583\n",
      "Epoch 2 Loss: 1.1045809462666512\n",
      "Epoch 3 Loss: 0.8353707753121853\n",
      "Epoch 4 Loss: 0.6876147016882896\n",
      "Epoch 5 Loss: 0.5887002050876617\n",
      "Epoch 6 Loss: 0.515972163528204\n",
      "Epoch 7 Loss: 0.45991045981645584\n",
      "Epoch 8 Loss: 0.4146319143474102\n",
      "Epoch 9 Loss: 0.3765300288796425\n",
      "Epoch 10 Loss: 0.34412430226802826\n",
      "Epoch 11 Loss: 0.31571908108890057\n",
      "Epoch 12 Loss: 0.29054374620318413\n",
      "Epoch 13 Loss: 0.26795537397265434\n",
      "Epoch 14 Loss: 0.24786490760743618\n",
      "Epoch 15 Loss: 0.2296542041003704\n",
      "Epoch 16 Loss: 0.2129450123757124\n",
      "Epoch 17 Loss: 0.19780004024505615\n",
      "Epoch 18 Loss: 0.18390297144651413\n",
      "Epoch 19 Loss: 0.17101470474153757\n",
      "Epoch 20 Loss: 0.1591901509091258\n",
      "Epoch 21 Loss: 0.14839049708098173\n",
      "Epoch 22 Loss: 0.13664480857551098\n",
      "Epoch 23 Loss: 0.13064228277653456\n",
      "Epoch 24 Loss: 0.12758569419384003\n",
      "Epoch 25 Loss: 0.12611822225153446\n"
     ]
    }
   ],
   "source": [
    "mnist_model, mnist_training_loss_grads, mnist_s_series = train_model(MnistClassifier().cuda(),\n",
    "                                                     mnist_train_input,\n",
    "                                                     mnist_train_target,\n",
    "                                                    lr=0.5,\n",
    "                                                    num_epochs=25,\n",
    "                                                    mini_batch_size=6000,\n",
    "                                                    sgd_new=True)"
   ]
  },
  {
   "cell_type": "code",
   "execution_count": 30,
   "metadata": {
    "ExecuteTime": {
     "end_time": "2020-05-05T12:16:32.079661Z",
     "start_time": "2020-05-05T12:16:32.018128Z"
    }
   },
   "outputs": [
    {
     "data": {
      "text/plain": [
       "0.9893999695777893"
      ]
     },
     "execution_count": 30,
     "metadata": {},
     "output_type": "execute_result"
    }
   ],
   "source": [
    "test_model(mnist_model, mnist_test_input, mnist_test_target)"
   ]
  },
  {
   "cell_type": "code",
   "execution_count": 31,
   "metadata": {
    "ExecuteTime": {
     "end_time": "2020-05-05T12:16:34.901781Z",
     "start_time": "2020-05-05T12:16:34.764149Z"
    }
   },
   "outputs": [
    {
     "data": {
      "image/png": "[encoded data removed]",
      "text/plain": [
       "<Figure size 720x360 with 1 Axes>"
      ]
     },
     "metadata": {
      "needs_background": "light"
     },
     "output_type": "display_data"
    }
   ],
   "source": [
    "plt.figure(figsize=(10, 5))\n",
    "sns.lineplot(data=mnist_s_series)\n",
    "plt.show()"
   ]
  },
  {
   "cell_type": "code",
   "execution_count": 32,
   "metadata": {
    "ExecuteTime": {
     "end_time": "2020-05-05T12:16:37.807626Z",
     "start_time": "2020-05-05T12:16:37.796681Z"
    }
   },
   "outputs": [
    {
     "data": {
      "text/plain": [
       "11"
      ]
     },
     "execution_count": 32,
     "metadata": {},
     "output_type": "execute_result"
    }
   ],
   "source": [
    "mnist_conv_thresh, mnist_s_series = estimate_convergence_threshold_phlug_diagnostic(mnist_training_loss_grads,\n",
    "                                                                                    burn_in=10)\n",
    "mnist_conv_thresh"
   ]
  },
  {
   "cell_type": "code",
   "execution_count": 33,
   "metadata": {
    "ExecuteTime": {
     "end_time": "2020-05-05T12:16:38.851867Z",
     "start_time": "2020-05-05T12:16:38.713239Z"
    }
   },
   "outputs": [
    {
     "data": {
      "image/png": "[encoded data removed]",
      "text/plain": [
       "<Figure size 720x360 with 1 Axes>"
      ]
     },
     "metadata": {
      "needs_background": "light"
     },
     "output_type": "display_data"
    }
   ],
   "source": [
    "plt.figure(figsize=(10, 5))\n",
    "sns.lineplot(data=mnist_s_series)\n",
    "plt.show()"
   ]
  },
  {
   "cell_type": "code",
   "execution_count": 17,
   "metadata": {
    "ExecuteTime": {
     "end_time": "2020-05-05T12:11:15.030851Z",
     "start_time": "2020-05-05T12:10:35.524641Z"
    }
   },
   "outputs": [
    {
     "name": "stdout",
     "output_type": "stream",
     "text": [
      "Epoch 1 Loss: 12.69841068983078\n",
      "Epoch 2 Loss: 6.7002769112586975\n",
      "Epoch 3 Loss: 5.45281445980072\n",
      "Epoch 4 Loss: 4.782003611326218\n",
      "Epoch 5 Loss: 4.346454709768295\n",
      "Epoch 6 Loss: 4.068556249141693\n",
      "Epoch 7 Loss: 3.824304163455963\n",
      "Epoch 8 Loss: 3.653109699487686\n",
      "Epoch 9 Loss: 3.520587235689163\n",
      "Epoch 10 Loss: 3.4743045568466187\n",
      "Epoch 11 Loss: 3.437686175107956\n",
      "Epoch 12 Loss: 3.403058022260666\n",
      "Epoch 13 Loss: 3.369962453842163\n",
      "Epoch 14 Loss: 3.338303178548813\n",
      "Epoch 15 Loss: 3.307877093553543\n",
      "Epoch 16 Loss: 3.2803456783294678\n",
      "Epoch 17 Loss: 3.265928477048874\n",
      "Epoch 18 Loss: 3.2517859637737274\n",
      "Epoch 19 Loss: 3.23789981007576\n",
      "Epoch 20 Loss: 3.2242727279663086\n",
      "Epoch 21 Loss: 3.210907965898514\n",
      "Epoch 22 Loss: 3.19776850938797\n",
      "Epoch 23 Loss: 3.184884935617447\n",
      "Epoch 24 Loss: 3.1721884310245514\n",
      "Epoch 25 Loss: 3.1597103476524353\n"
     ]
    }
   ],
   "source": [
    "fashion_mnist_train_input, fashion_mnist_test_input = standardize_data(fashion_mnist_train_input,\n",
    "                                                                       fashion_mnist_test_input)\n",
    "fashion_mnist_train_input = fashion_mnist_train_input.cuda()\n",
    "fashion_mnist_train_target = fashion_mnist_train_target.cuda()\n",
    "fashion_mnist_test_input = fashion_mnist_test_input.cuda()\n",
    "fashion_mnist_test_target = fashion_mnist_test_target.cuda()\n",
    "fashion_mnist_model, fashion_mnist_training_loss_grads, fashion_mnist_s_series = train_model(MnistClassifier().cuda(),\n",
    "                                                                                             fashion_mnist_train_input,\n",
    "                                                                                             fashion_mnist_train_target,\n",
    "                                                                                             lr=0.05, sgd_new=True)"
   ]
  },
  {
   "cell_type": "code",
   "execution_count": 18,
   "metadata": {
    "ExecuteTime": {
     "end_time": "2020-05-05T12:11:15.100701Z",
     "start_time": "2020-05-05T12:11:15.035874Z"
    }
   },
   "outputs": [
    {
     "data": {
      "text/plain": [
       "0.8765999674797058"
      ]
     },
     "execution_count": 18,
     "metadata": {},
     "output_type": "execute_result"
    }
   ],
   "source": [
    "test_model(fashion_mnist_model, fashion_mnist_test_input, fashion_mnist_test_target)"
   ]
  },
  {
   "cell_type": "code",
   "execution_count": 19,
   "metadata": {
    "ExecuteTime": {
     "end_time": "2020-05-05T12:11:15.287178Z",
     "start_time": "2020-05-05T12:11:15.103658Z"
    }
   },
   "outputs": [
    {
     "data": {
      "image/png": "[encoded data removed]",
      "text/plain": [
       "<Figure size 720x360 with 1 Axes>"
      ]
     },
     "metadata": {
      "needs_background": "light"
     },
     "output_type": "display_data"
    }
   ],
   "source": [
    "plt.figure(figsize=(10, 5))\n",
    "sns.lineplot(data=fashion_mnist_s_series)\n",
    "plt.show()"
   ]
  },
  {
   "cell_type": "code",
   "execution_count": 20,
   "metadata": {
    "ExecuteTime": {
     "end_time": "2020-05-05T12:11:15.306119Z",
     "start_time": "2020-05-05T12:11:15.288164Z"
    }
   },
   "outputs": [
    {
     "data": {
      "text/plain": [
       "71"
      ]
     },
     "execution_count": 20,
     "metadata": {},
     "output_type": "execute_result"
    }
   ],
   "source": [
    "fashion_mnist_conv_thresh, fashion_mnist_s_series = estimate_convergence_threshold_phlug_diagnostic(fashion_mnist_training_loss_grads,\n",
    "                                                                                                    burn_in=10)\n",
    "fashion_mnist_conv_thresh"
   ]
  },
  {
   "cell_type": "code",
   "execution_count": 21,
   "metadata": {
    "ExecuteTime": {
     "end_time": "2020-05-05T12:11:15.514559Z",
     "start_time": "2020-05-05T12:11:15.308112Z"
    }
   },
   "outputs": [
    {
     "data": {
      "image/png": "[encoded data removed]",
      "text/plain": [
       "<Figure size 720x360 with 1 Axes>"
      ]
     },
     "metadata": {
      "needs_background": "light"
     },
     "output_type": "display_data"
    }
   ],
   "source": [
    "plt.figure(figsize=(10, 5))\n",
    "sns.lineplot(data=fashion_mnist_s_series)\n",
    "plt.show()"
   ]
  },
  {
   "cell_type": "code",
   "execution_count": 22,
   "metadata": {
    "ExecuteTime": {
     "end_time": "2020-05-05T12:11:15.521543Z",
     "start_time": "2020-05-05T12:11:15.515556Z"
    }
   },
   "outputs": [],
   "source": [
    "def generate_simple_linear_classification_dataset(num_samples=1000, num_features=10, onehot_targets=False):\n",
    "    input_data = torch.empty(num_samples*2, num_features).uniform_(-1, 1)\n",
    "    target_data = (input_data.mean(dim=1) > 0).long()\n",
    "    if onehot_targets:\n",
    "        target_data = F.one_hot(target_data, num_classes=2).float()\n",
    "    return input_data[:num_samples], target_data[:num_samples], input_data[num_samples:], target_data[num_samples:]"
   ]
  },
  {
   "cell_type": "code",
   "execution_count": 23,
   "metadata": {
    "ExecuteTime": {
     "end_time": "2020-05-05T12:11:15.536500Z",
     "start_time": "2020-05-05T12:11:15.522537Z"
    }
   },
   "outputs": [],
   "source": [
    "linear_train_input, linear_train_target, linear_test_input, linear_test_target = generate_simple_linear_classification_dataset(onehot_targets=True)\n",
    "linear_train_input, linear_test_input = standardize_data(linear_train_input, linear_test_input)\n",
    "linear_train_input = linear_train_input.cuda()\n",
    "linear_train_target = linear_train_target.cuda()\n",
    "linear_test_input = linear_test_input.cuda()\n",
    "linear_test_target = linear_test_target.cuda()"
   ]
  },
  {
   "cell_type": "code",
   "execution_count": 24,
   "metadata": {
    "ExecuteTime": {
     "end_time": "2020-05-05T12:11:16.434188Z",
     "start_time": "2020-05-05T12:11:15.537498Z"
    }
   },
   "outputs": [
    {
     "name": "stdout",
     "output_type": "stream",
     "text": [
      "Epoch 1 Loss: 0.870960894972086\n",
      "Epoch 2 Loss: 0.4488200806081295\n",
      "Epoch 3 Loss: 0.37588435411453247\n",
      "Epoch 4 Loss: 0.3350998219102621\n",
      "Epoch 5 Loss: 0.3075245749205351\n",
      "Epoch 6 Loss: 0.28581355698406696\n",
      "Epoch 7 Loss: 0.26825895346701145\n",
      "Epoch 8 Loss: 0.2598079200834036\n",
      "Epoch 9 Loss: 0.25545332208275795\n",
      "Epoch 10 Loss: 0.2532663643360138\n",
      "Epoch 11 Loss: 0.2521296087652445\n",
      "Epoch 12 Loss: 0.2515304312109947\n",
      "Epoch 13 Loss: 0.25124859996140003\n",
      "Epoch 14 Loss: 0.25108078867197037\n",
      "Epoch 15 Loss: 0.25099143013358116\n",
      "Epoch 16 Loss: 0.2509461008012295\n",
      "Epoch 17 Loss: 0.25092254020273685\n",
      "Epoch 18 Loss: 0.25090973265469074\n",
      "Epoch 19 Loss: 0.25090260058641434\n",
      "Epoch 20 Loss: 0.2508986368775368\n",
      "Epoch 21 Loss: 0.2508965954184532\n",
      "Epoch 22 Loss: 0.2508955132216215\n",
      "Epoch 23 Loss: 0.2508949376642704\n",
      "Epoch 24 Loss: 0.2508946694433689\n",
      "Epoch 25 Loss: 0.2508945111185312\n",
      "Epoch 26 Loss: 0.25089440681040287\n",
      "Epoch 27 Loss: 0.2508943732827902\n",
      "Epoch 28 Loss: 0.25089435651898384\n",
      "Epoch 29 Loss: 0.25089434906840324\n",
      "Epoch 30 Loss: 0.25089434906840324\n",
      "Epoch 31 Loss: 0.25089434906840324\n",
      "Epoch 32 Loss: 0.25089434906840324\n",
      "Epoch 33 Loss: 0.25089434906840324\n",
      "Epoch 34 Loss: 0.25089434906840324\n",
      "Epoch 35 Loss: 0.25089434906840324\n",
      "Epoch 36 Loss: 0.25089434906840324\n",
      "Epoch 37 Loss: 0.25089434906840324\n",
      "Epoch 38 Loss: 0.25089434906840324\n",
      "Epoch 39 Loss: 0.25089434906840324\n",
      "Epoch 40 Loss: 0.25089434906840324\n",
      "Epoch 41 Loss: 0.25089434906840324\n",
      "Epoch 42 Loss: 0.25089434906840324\n",
      "Epoch 43 Loss: 0.25089434906840324\n",
      "Epoch 44 Loss: 0.25089434906840324\n",
      "Epoch 45 Loss: 0.25089434906840324\n",
      "Epoch 46 Loss: 0.25089434906840324\n",
      "Epoch 47 Loss: 0.25089434906840324\n",
      "Epoch 48 Loss: 0.052390081807971\n"
     ]
    }
   ],
   "source": [
    "linear_model, linear_training_loss_grads, linear_s_series = train_model(nn.Sequential(nn.Linear(10, 2), nn.Sigmoid()).cuda(),\n",
    "                                                       linear_train_input,\n",
    "                                                       linear_train_target,\n",
    "                                                       sgd_new=True,\n",
    "                                                       num_epochs=100,\n",
    "                                                       lr=15, mini_batch_size=100, criterion=nn.MSELoss())"
   ]
  },
  {
   "cell_type": "code",
   "execution_count": 25,
   "metadata": {
    "ExecuteTime": {
     "end_time": "2020-05-05T12:11:16.440144Z",
     "start_time": "2020-05-05T12:11:16.435133Z"
    }
   },
   "outputs": [
    {
     "data": {
      "text/plain": [
       "0.9850000739097595"
      ]
     },
     "execution_count": 25,
     "metadata": {},
     "output_type": "execute_result"
    }
   ],
   "source": [
    "test_model(linear_model, linear_test_input, linear_test_target)"
   ]
  },
  {
   "cell_type": "code",
   "execution_count": 26,
   "metadata": {
    "ExecuteTime": {
     "end_time": "2020-05-05T12:11:16.631641Z",
     "start_time": "2020-05-05T12:11:16.441117Z"
    }
   },
   "outputs": [
    {
     "data": {
      "image/png": "[encoded data removed]",
      "text/plain": [
       "<Figure size 720x360 with 1 Axes>"
      ]
     },
     "metadata": {
      "needs_background": "light"
     },
     "output_type": "display_data"
    }
   ],
   "source": [
    "plt.figure(figsize=(10, 5))\n",
    "sns.lineplot(data=linear_s_series)\n",
    "plt.show()"
   ]
  },
  {
   "cell_type": "code",
   "execution_count": 27,
   "metadata": {
    "ExecuteTime": {
     "end_time": "2020-05-05T12:11:16.645575Z",
     "start_time": "2020-05-05T12:11:16.632605Z"
    }
   },
   "outputs": [
    {
     "data": {
      "text/plain": [
       "54"
      ]
     },
     "execution_count": 27,
     "metadata": {},
     "output_type": "execute_result"
    }
   ],
   "source": [
    "linear_conv_thresh, linear_s_series = estimate_convergence_threshold_phlug_diagnostic(linear_training_loss_grads,\n",
    "                                                                                      burn_in=10)\n",
    "linear_conv_thresh"
   ]
  },
  {
   "cell_type": "code",
   "execution_count": 28,
   "metadata": {
    "ExecuteTime": {
     "end_time": "2020-05-05T12:11:16.825723Z",
     "start_time": "2020-05-05T12:11:16.646167Z"
    }
   },
   "outputs": [
    {
     "data": {
      "image/png": "[encoded data removed]",
      "text/plain": [
       "<Figure size 720x360 with 1 Axes>"
      ]
     },
     "metadata": {
      "needs_background": "light"
     },
     "output_type": "display_data"
    }
   ],
   "source": [
    "plt.figure(figsize=(10, 5))\n",
    "sns.lineplot(data=linear_s_series)\n",
    "plt.show()"
   ]
  }
 ],
 "metadata": {
  "kernelspec": {
   "display_name": "Python 3",
   "language": "python",
   "name": "python3"
  },
  "language_info": {
   "codemirror_mode": {
    "name": "ipython",
    "version": 3
   },
   "file_extension": ".py",
   "mimetype": "text/x-python",
   "name": "python",
   "nbconvert_exporter": "python",
   "pygments_lexer": "ipython3",
   "version": "3.7.1"
  },
  "toc": {
   "base_numbering": 1,
   "nav_menu": {},
   "number_sections": false,
   "sideBar": true,
   "skip_h1_title": false,
   "title_cell": "Table of Contents",
   "title_sidebar": "Contents",
   "toc_cell": false,
   "toc_position": {},
   "toc_section_display": true,
   "toc_window_display": false
  },
  "varInspector": {
   "cols": {
    "lenName": 16,
    "lenType": 16,
    "lenVar": 40
   },
   "kernels_config": {
    "python": {
     "delete_cmd_postfix": "",
     "delete_cmd_prefix": "del ",
     "library": "var_list.py",
     "varRefreshCmd": "print(var_dic_list())"
    },
    "r": {
     "delete_cmd_postfix": ") ",
     "delete_cmd_prefix": "rm(",
     "library": "var_list.r",
     "varRefreshCmd": "cat(var_dic_list()) "
    }
   },
   "types_to_exclude": [
    "module",
    "function",
    "builtin_function_or_method",
    "instance",
    "_Feature"
   ],
   "window_display": false
  }
 },
 "nbformat": 4,
 "nbformat_minor": 4
}
