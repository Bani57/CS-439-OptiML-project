{
 "cells": [
  {
   "cell_type": "code",
   "execution_count": 1,
   "metadata": {
    "ExecuteTime": {
     "end_time": "2020-04-25T18:57:03.011963Z",
     "start_time": "2020-04-25T18:57:02.579919Z"
    }
   },
   "outputs": [],
   "source": [
    "import numpy as np\n",
    "import torch\n",
    "from torch import nn\n",
    "from torch.nn import functional as F\n",
    "from torch.optim import SGD, Adam\n",
    "from torchvision import datasets"
   ]
  },
  {
   "cell_type": "code",
   "execution_count": 2,
   "metadata": {
    "ExecuteTime": {
     "end_time": "2020-04-25T18:57:03.018860Z",
     "start_time": "2020-04-25T18:57:03.012910Z"
    }
   },
   "outputs": [],
   "source": [
    "np.random.seed(1)\n",
    "torch.manual_seed(1)\n",
    "torch.backends.cudnn.deterministic = True\n",
    "torch.backends.cudnn.benchmark = False"
   ]
  },
  {
   "cell_type": "code",
   "execution_count": 3,
   "metadata": {
    "ExecuteTime": {
     "end_time": "2020-04-25T18:57:05.163128Z",
     "start_time": "2020-04-25T18:57:03.019865Z"
    }
   },
   "outputs": [
    {
     "name": "stdout",
     "output_type": "stream",
     "text": [
      "Files already downloaded and verified\n",
      "Files already downloaded and verified\n"
     ]
    }
   ],
   "source": [
    "data_dir = \"./data/\"\n",
    "cifar_train_set = datasets.CIFAR10(data_dir + 'cifar10/', train = True, download = True)\n",
    "cifar_test_set = datasets.CIFAR10(data_dir + 'cifar10/', train = False, download = True)\n",
    "\n",
    "cifar_train_input = torch.from_numpy(cifar_train_set.data)\n",
    "cifar_train_input = cifar_train_input.transpose(3, 1).transpose(2, 3).float()\n",
    "cifar_train_target = torch.tensor(cifar_train_set.targets, dtype = torch.int64)\n",
    "\n",
    "cifar_test_input = torch.from_numpy(cifar_test_set.data).float()\n",
    "cifar_test_input = cifar_test_input.transpose(3, 1).transpose(2, 3).float()\n",
    "cifar_test_target = torch.tensor(cifar_test_set.targets, dtype = torch.int64)\n",
    "\n",
    "\n",
    "mnist_train_set = datasets.MNIST(data_dir + 'mnist/', train = True, download = True)\n",
    "mnist_test_set = datasets.MNIST(data_dir + 'mnist/', train = False, download = True)\n",
    "\n",
    "mnist_train_input = mnist_train_set.data.view(-1, 1, 28, 28).float()\n",
    "mnist_train_target = mnist_train_set.targets\n",
    "mnist_test_input = mnist_test_set.data.view(-1, 1, 28, 28).float()\n",
    "mnist_test_target = mnist_test_set.targets"
   ]
  },
  {
   "cell_type": "code",
   "execution_count": 4,
   "metadata": {
    "ExecuteTime": {
     "end_time": "2020-04-25T18:57:05.174115Z",
     "start_time": "2020-04-25T18:57:05.164125Z"
    }
   },
   "outputs": [],
   "source": [
    "class MnistClassifier(nn.Module):\n",
    "    def __init__(self):\n",
    "        nn.Module.__init__(self)\n",
    "        self.conv1 = nn.Conv2d(in_channels=1, out_channels=16, kernel_size=3)\n",
    "        self.maxp1 = nn.MaxPool2d(kernel_size=2)\n",
    "        self.bn1 = nn.BatchNorm2d(num_features=16)\n",
    "        self.conv2 = nn.Conv2d(in_channels=16, out_channels=32, kernel_size=4)\n",
    "        self.maxp2 = nn.MaxPool2d(kernel_size=2)\n",
    "        self.bn2 = nn.BatchNorm2d(num_features=32)\n",
    "        self.conv3 = nn.Conv2d(in_channels=32, out_channels=64, kernel_size=5)\n",
    "        self.bn3 = nn.BatchNorm1d(num_features=64)\n",
    "        self.fc1 = nn.Linear(in_features=64, out_features=256)\n",
    "        self.bn4 = nn.BatchNorm1d(num_features=256)\n",
    "        self.fc2 = nn.Linear(in_features=256, out_features=10)\n",
    "    def forward(self, x):\n",
    "        y = self.bn1(F.relu(self.maxp1(self.conv1(x))))\n",
    "        y = self.bn2(F.relu(self.maxp2(self.conv2(y))))\n",
    "        y = self.bn3(F.relu(self.conv3(y).view(-1, 64)))\n",
    "        y = self.bn4(F.relu(self.fc1(y)))\n",
    "        y = F.relu(self.fc2(y))\n",
    "        return y"
   ]
  },
  {
   "cell_type": "code",
   "execution_count": 5,
   "metadata": {
    "ExecuteTime": {
     "end_time": "2020-04-25T18:57:05.191053Z",
     "start_time": "2020-04-25T18:57:05.175096Z"
    }
   },
   "outputs": [],
   "source": [
    "def train_model(model, train_input, train_target, num_epochs=25, lr=1e-1, mini_batch_size=5000, adam=False):\n",
    "    if adam:\n",
    "        optimizer = Adam(model.parameters(), lr=lr)\n",
    "    else:\n",
    "        optimizer = SGD(model.parameters(), lr=lr)\n",
    "    criterion = nn.CrossEntropyLoss().cuda()\n",
    "    num_samples = train_input.size(0)\n",
    "    for e in range(1, num_epochs+1):\n",
    "        sum_loss=0\n",
    "        for b in range(0, num_samples, mini_batch_size):\n",
    "            train_input_mini_batch = train_input[b:min(b+mini_batch_size, num_samples)]\n",
    "            train_target_mini_batch = train_target[b:min(b+mini_batch_size, num_samples)]\n",
    "            optimizer.zero_grad()\n",
    "            prediction_mini_batch = model(train_input_mini_batch)\n",
    "            loss = criterion(prediction_mini_batch, train_target_mini_batch)\n",
    "            sum_loss += loss.item()\n",
    "            loss.backward()\n",
    "            optimizer.step()\n",
    "            torch.cuda.empty_cache()\n",
    "        print(\"Epoch {} Loss: {}\".format(e, sum_loss))\n",
    "    return model"
   ]
  },
  {
   "cell_type": "code",
   "execution_count": 6,
   "metadata": {
    "ExecuteTime": {
     "end_time": "2020-04-25T18:57:05.199032Z",
     "start_time": "2020-04-25T18:57:05.193048Z"
    }
   },
   "outputs": [],
   "source": [
    "def test_model(model, test_input, test_target):\n",
    "    prediction = model(test_input)\n",
    "    predicted_labels = torch.argmax(prediction, dim=1)\n",
    "    accuracy = (predicted_labels == test_target).float().mean().item()\n",
    "    return accuracy"
   ]
  },
  {
   "cell_type": "code",
   "execution_count": 7,
   "metadata": {
    "ExecuteTime": {
     "end_time": "2020-04-25T18:57:44.349834Z",
     "start_time": "2020-04-25T18:57:05.202028Z"
    }
   },
   "outputs": [
    {
     "name": "stdout",
     "output_type": "stream",
     "text": [
      "Epoch 1 Loss: 10.002651944756508\n",
      "Epoch 2 Loss: 2.5359396636486053\n",
      "Epoch 3 Loss: 1.6746613830327988\n",
      "Epoch 4 Loss: 1.2898986637592316\n",
      "Epoch 5 Loss: 1.0644440650939941\n",
      "Epoch 6 Loss: 0.913803968578577\n",
      "Epoch 7 Loss: 0.804564356803894\n",
      "Epoch 8 Loss: 0.7211291193962097\n",
      "Epoch 9 Loss: 0.6546393632888794\n",
      "Epoch 10 Loss: 0.5997908115386963\n",
      "Epoch 11 Loss: 0.5535517930984497\n",
      "Epoch 12 Loss: 0.5137772783637047\n",
      "Epoch 13 Loss: 0.4790307879447937\n",
      "Epoch 14 Loss: 0.44852789118885994\n",
      "Epoch 15 Loss: 0.4211531784385443\n",
      "Epoch 16 Loss: 0.3963406253606081\n",
      "Epoch 17 Loss: 0.3738534301519394\n",
      "Epoch 18 Loss: 0.3531911950558424\n",
      "Epoch 19 Loss: 0.3342803977429867\n",
      "Epoch 20 Loss: 0.31666890904307365\n",
      "Epoch 21 Loss: 0.30029630847275257\n",
      "Epoch 22 Loss: 0.28502142056822777\n",
      "Epoch 23 Loss: 0.27104074880480766\n",
      "Epoch 24 Loss: 0.2578673753887415\n",
      "Epoch 25 Loss: 0.24559614434838295\n"
     ]
    }
   ],
   "source": [
    "mnist_model = train_model(MnistClassifier().cuda(), mnist_train_input.cuda(), mnist_train_target.cuda())"
   ]
  },
  {
   "cell_type": "code",
   "execution_count": 8,
   "metadata": {
    "ExecuteTime": {
     "end_time": "2020-04-25T18:57:44.425232Z",
     "start_time": "2020-04-25T18:57:44.351776Z"
    }
   },
   "outputs": [
    {
     "data": {
      "text/plain": [
       "0.9872999787330627"
      ]
     },
     "execution_count": 8,
     "metadata": {},
     "output_type": "execute_result"
    }
   ],
   "source": [
    "test_model(mnist_model, mnist_test_input.cuda(), mnist_test_target.cuda())"
   ]
  }
 ],
 "metadata": {
  "kernelspec": {
   "display_name": "Python 3",
   "language": "python",
   "name": "python3"
  },
  "language_info": {
   "codemirror_mode": {
    "name": "ipython",
    "version": 3
   },
   "file_extension": ".py",
   "mimetype": "text/x-python",
   "name": "python",
   "nbconvert_exporter": "python",
   "pygments_lexer": "ipython3",
   "version": "3.7.1"
  },
  "toc": {
   "base_numbering": 1,
   "nav_menu": {},
   "number_sections": false,
   "sideBar": true,
   "skip_h1_title": false,
   "title_cell": "Table of Contents",
   "title_sidebar": "Contents",
   "toc_cell": false,
   "toc_position": {},
   "toc_section_display": true,
   "toc_window_display": false
  },
  "varInspector": {
   "cols": {
    "lenName": 16,
    "lenType": 16,
    "lenVar": 40
   },
   "kernels_config": {
    "python": {
     "delete_cmd_postfix": "",
     "delete_cmd_prefix": "del ",
     "library": "var_list.py",
     "varRefreshCmd": "print(var_dic_list())"
    },
    "r": {
     "delete_cmd_postfix": ") ",
     "delete_cmd_prefix": "rm(",
     "library": "var_list.r",
     "varRefreshCmd": "cat(var_dic_list()) "
    }
   },
   "types_to_exclude": [
    "module",
    "function",
    "builtin_function_or_method",
    "instance",
    "_Feature"
   ],
   "window_display": false
  }
 },
 "nbformat": 4,
 "nbformat_minor": 4
}
