{
 "cells": [
  {
   "cell_type": "code",
   "execution_count": 1,
   "metadata": {
    "ExecuteTime": {
     "end_time": "2020-05-03T13:00:34.087735Z",
     "start_time": "2020-05-03T13:00:27.497133Z"
    }
   },
   "outputs": [],
   "source": [
    "import numpy as np\n",
    "import torch\n",
    "from torch import nn\n",
    "from torch.nn import functional as F\n",
    "from torch.optim import SGD, Adam\n",
    "from torchvision import datasets, transforms\n",
    "from matplotlib import pyplot as plt\n",
    "import seaborn as sns"
   ]
  },
  {
   "cell_type": "code",
   "execution_count": 2,
   "metadata": {
    "ExecuteTime": {
     "end_time": "2020-05-03T13:00:34.118480Z",
     "start_time": "2020-05-03T13:00:34.098552Z"
    }
   },
   "outputs": [],
   "source": [
    "np.random.seed(1)\n",
    "torch.manual_seed(1)\n",
    "torch.cuda.manual_seed_all(1)\n",
    "torch.backends.cudnn.deterministic = True\n",
    "torch.backends.cudnn.benchmark = False"
   ]
  },
  {
   "cell_type": "code",
   "execution_count": 3,
   "metadata": {
    "ExecuteTime": {
     "end_time": "2020-05-03T13:00:35.805782Z",
     "start_time": "2020-05-03T13:00:34.129451Z"
    }
   },
   "outputs": [],
   "source": [
    "data_dir = \"./data/\"\n",
    "\n",
    "\n",
    "mnist_train_set = datasets.MNIST(data_dir + 'mnist/', train = True, download = True)\n",
    "mnist_test_set = datasets.MNIST(data_dir + 'mnist/', train = False, download = True)\n",
    "\n",
    "mnist_train_input = mnist_train_set.data.view(-1, 1, 28, 28).float()\n",
    "mnist_train_target = mnist_train_set.targets\n",
    "mnist_test_input = mnist_test_set.data.view(-1, 1, 28, 28).float()\n",
    "mnist_test_target = mnist_test_set.targets\n",
    "\n",
    "\n",
    "fashion_mnist_train_set = datasets.FashionMNIST(data_dir + 'fashion_mnist/', train = True, download = True)\n",
    "fashion_mnist_test_set = datasets.FashionMNIST(data_dir + 'fashion_mnist/', train = False, download = True)\n",
    "\n",
    "fashion_mnist_train_input = fashion_mnist_train_set.data.view(-1, 1, 28, 28).float()\n",
    "fashion_mnist_train_target = fashion_mnist_train_set.targets\n",
    "fashion_mnist_test_input = fashion_mnist_test_set.data.view(-1, 1, 28, 28).float()\n",
    "fashion_mnist_test_target = fashion_mnist_test_set.targets"
   ]
  },
  {
   "cell_type": "code",
   "execution_count": 4,
   "metadata": {
    "ExecuteTime": {
     "end_time": "2020-05-03T13:00:35.865622Z",
     "start_time": "2020-05-03T13:00:35.861633Z"
    }
   },
   "outputs": [],
   "source": [
    "def standardize_data(train_input, test_input):\n",
    "    mean, std = train_input.mean(), train_input.std()\n",
    "    \n",
    "    return (train_input - mean) / std, (test_input - mean) / std"
   ]
  },
  {
   "cell_type": "code",
   "execution_count": 5,
   "metadata": {
    "ExecuteTime": {
     "end_time": "2020-05-03T13:00:35.907512Z",
     "start_time": "2020-05-03T13:00:35.898535Z"
    }
   },
   "outputs": [],
   "source": [
    "class MnistClassifier(nn.Module):\n",
    "    def __init__(self):\n",
    "        nn.Module.__init__(self)\n",
    "        self.conv1 = nn.Conv2d(in_channels=1, out_channels=16, kernel_size=3)\n",
    "        self.maxp1 = nn.MaxPool2d(kernel_size=2)\n",
    "        self.bn1 = nn.BatchNorm2d(num_features=16)\n",
    "        self.conv2 = nn.Conv2d(in_channels=16, out_channels=32, kernel_size=4)\n",
    "        self.maxp2 = nn.MaxPool2d(kernel_size=2)\n",
    "        self.bn2 = nn.BatchNorm2d(num_features=32)\n",
    "        self.conv3 = nn.Conv2d(in_channels=32, out_channels=64, kernel_size=5)\n",
    "        self.bn3 = nn.BatchNorm1d(num_features=64)\n",
    "        self.fc1 = nn.Linear(in_features=64, out_features=256)\n",
    "        self.bn4 = nn.BatchNorm1d(num_features=256)\n",
    "        self.fc2 = nn.Linear(in_features=256, out_features=10)\n",
    "    def forward(self, x):\n",
    "        y = self.bn1(F.relu(self.maxp1(self.conv1(x))))\n",
    "        y = self.bn2(F.relu(self.maxp2(self.conv2(y))))\n",
    "        y = self.bn3(F.relu(self.conv3(y).view(-1, 64)))\n",
    "        y = self.bn4(F.relu(self.fc1(y)))\n",
    "        y = F.relu(self.fc2(y))\n",
    "        return y"
   ]
  },
  {
   "cell_type": "code",
   "execution_count": 6,
   "metadata": {
    "ExecuteTime": {
     "end_time": "2020-05-03T13:00:37.667757Z",
     "start_time": "2020-05-03T13:00:37.664732Z"
    }
   },
   "outputs": [],
   "source": [
    "def deep_model_param_loss_gradients_to_flat_vector(model_params):\n",
    "    return torch.cat([param.grad.view(-1).cpu() for param in model_params])"
   ]
  },
  {
   "cell_type": "code",
   "execution_count": 7,
   "metadata": {
    "ExecuteTime": {
     "end_time": "2020-05-03T13:00:39.102536Z",
     "start_time": "2020-05-03T13:00:39.095546Z"
    }
   },
   "outputs": [],
   "source": [
    "def train_model(model, train_input, train_target, num_epochs=25, lr=1e-1, mini_batch_size=6000, adam=False):\n",
    "    if adam:\n",
    "        optimizer = Adam(model.parameters(), lr=lr)\n",
    "    else:\n",
    "        optimizer = SGD(model.parameters(), lr=lr)\n",
    "    criterion = nn.CrossEntropyLoss().cuda()\n",
    "    num_samples = train_input.size(0)\n",
    "    loss_gradients_series=[]\n",
    "    for e in range(1, num_epochs+1):\n",
    "        sum_loss=0\n",
    "        for b in range(0, num_samples, mini_batch_size):\n",
    "            train_input_mini_batch = train_input[b:min(b+mini_batch_size, num_samples)]\n",
    "            train_target_mini_batch = train_target[b:min(b+mini_batch_size, num_samples)]\n",
    "            optimizer.zero_grad()\n",
    "            prediction_mini_batch = model(train_input_mini_batch)\n",
    "            loss = criterion(prediction_mini_batch, train_target_mini_batch)\n",
    "            sum_loss += loss.item()\n",
    "            loss.backward()\n",
    "            with torch.no_grad():\n",
    "                loss_gradients = deep_model_param_loss_gradients_to_flat_vector(model.parameters())\n",
    "                loss_gradients_series.append(loss_gradients)\n",
    "            optimizer.step()\n",
    "            torch.cuda.empty_cache()\n",
    "        print(\"Epoch {} Loss: {}\".format(e, sum_loss))\n",
    "    loss_gradients_series = torch.stack(loss_gradients_series)\n",
    "    return model, loss_gradients_series"
   ]
  },
  {
   "cell_type": "code",
   "execution_count": 8,
   "metadata": {
    "ExecuteTime": {
     "end_time": "2020-05-03T13:00:39.530002Z",
     "start_time": "2020-05-03T13:00:39.526013Z"
    }
   },
   "outputs": [],
   "source": [
    "def test_model(model, test_input, test_target):\n",
    "    model.train(False)\n",
    "    prediction = model(test_input)\n",
    "    predicted_labels = torch.argmax(prediction, dim=1)\n",
    "    accuracy = (predicted_labels == test_target).float().mean().item()\n",
    "    return accuracy"
   ]
  },
  {
   "cell_type": "code",
   "execution_count": 9,
   "metadata": {
    "ExecuteTime": {
     "end_time": "2020-05-03T13:00:41.161341Z",
     "start_time": "2020-05-03T13:00:41.156392Z"
    }
   },
   "outputs": [],
   "source": [
    "def estimate_convergence_threshold_phlug_diagnostic(loss_gradients_series, burn_in=1):\n",
    "    num_sgd_iterations_performed = len(loss_gradients_series)\n",
    "    s_series = [0, ]\n",
    "    convergence_threshold_set=False\n",
    "    convergence_threshold = np.inf\n",
    "    for n in range(1, num_sgd_iterations_performed):\n",
    "        s_n = s_series[n-1] + torch.dot(loss_gradients_series[n], loss_gradients_series[n-1]).item()\n",
    "        s_series.append(s_n)\n",
    "        if not convergence_threshold_set and n > burn_in and s_n < 0:\n",
    "            convergence_threshold = n\n",
    "            convergence_threshold_set = True\n",
    "    s_series = np.array(s_series)\n",
    "    return convergence_threshold, s_series"
   ]
  },
  {
   "cell_type": "code",
   "execution_count": 10,
   "metadata": {
    "ExecuteTime": {
     "end_time": "2020-05-02T22:05:35.244653Z",
     "start_time": "2020-05-02T22:05:33.548498Z"
    }
   },
   "outputs": [],
   "source": [
    "mnist_train_input, mnist_test_input = standardize_data(mnist_train_input, mnist_test_input)\n",
    "mnist_train_input = mnist_train_input.cuda()\n",
    "mnist_train_target = mnist_train_target.cuda()\n",
    "mnist_test_input = mnist_test_input.cuda()\n",
    "mnist_test_target = mnist_test_target.cuda()"
   ]
  },
  {
   "cell_type": "code",
   "execution_count": 27,
   "metadata": {
    "ExecuteTime": {
     "end_time": "2020-05-02T22:10:01.420128Z",
     "start_time": "2020-05-02T22:09:16.534863Z"
    }
   },
   "outputs": [
    {
     "name": "stdout",
     "output_type": "stream",
     "text": [
      "Epoch 1 Loss: 6.9197405725717545\n",
      "Epoch 2 Loss: 1.3246608451008797\n",
      "Epoch 3 Loss: 0.8873720690608025\n",
      "Epoch 4 Loss: 0.6905576176941395\n",
      "Epoch 5 Loss: 0.5722537711262703\n",
      "Epoch 6 Loss: 0.4896736443042755\n",
      "Epoch 7 Loss: 0.428383432328701\n",
      "Epoch 8 Loss: 0.3798716217279434\n",
      "Epoch 9 Loss: 0.3401841018348932\n",
      "Epoch 10 Loss: 0.30656355060636997\n",
      "Epoch 11 Loss: 0.2776620648801327\n",
      "Epoch 12 Loss: 0.25281232967972755\n",
      "Epoch 13 Loss: 0.2307110521942377\n",
      "Epoch 14 Loss: 0.211116511374712\n",
      "Epoch 15 Loss: 0.19323517009615898\n",
      "Epoch 16 Loss: 0.17733860667794943\n",
      "Epoch 17 Loss: 0.1628881311044097\n",
      "Epoch 18 Loss: 0.14987487066537142\n",
      "Epoch 19 Loss: 0.13843884598463774\n",
      "Epoch 20 Loss: 0.12787540070712566\n",
      "Epoch 21 Loss: 0.11804241314530373\n",
      "Epoch 22 Loss: 0.10930366441607475\n",
      "Epoch 23 Loss: 0.10122969374060631\n",
      "Epoch 24 Loss: 0.09401006810367107\n",
      "Epoch 25 Loss: 0.08753834338858724\n"
     ]
    }
   ],
   "source": [
    "mnist_model, mnist_training_loss_grads = train_model(MnistClassifier().cuda(),\n",
    "                                                     mnist_train_input,\n",
    "                                                     mnist_train_target,\n",
    "                                                    lr=0.25,\n",
    "                                                    num_epochs=25,\n",
    "                                                    mini_batch_size=6000)"
   ]
  },
  {
   "cell_type": "code",
   "execution_count": 28,
   "metadata": {
    "ExecuteTime": {
     "end_time": "2020-05-02T22:10:03.581610Z",
     "start_time": "2020-05-02T22:10:03.492844Z"
    }
   },
   "outputs": [
    {
     "data": {
      "text/plain": [
       "0.9887999892234802"
      ]
     },
     "execution_count": 28,
     "metadata": {},
     "output_type": "execute_result"
    }
   ],
   "source": [
    "test_model(mnist_model, mnist_test_input, mnist_test_target)"
   ]
  },
  {
   "cell_type": "code",
   "execution_count": 29,
   "metadata": {
    "ExecuteTime": {
     "end_time": "2020-05-02T22:10:05.712264Z",
     "start_time": "2020-05-02T22:10:05.692336Z"
    }
   },
   "outputs": [
    {
     "data": {
      "text/plain": [
       "11"
      ]
     },
     "execution_count": 29,
     "metadata": {},
     "output_type": "execute_result"
    }
   ],
   "source": [
    "mnist_conv_thresh, mnist_s_series = estimate_convergence_threshold_phlug_diagnostic(mnist_training_loss_grads,\n",
    "                                                                                    burn_in=10)\n",
    "mnist_conv_thresh"
   ]
  },
  {
   "cell_type": "code",
   "execution_count": 30,
   "metadata": {
    "ExecuteTime": {
     "end_time": "2020-05-02T22:10:07.804958Z",
     "start_time": "2020-05-02T22:10:07.569354Z"
    }
   },
   "outputs": [
    {
     "data": {
      "image/png": "[encoded data removed]",
      "text/plain": [
       "<Figure size 720x360 with 1 Axes>"
      ]
     },
     "metadata": {
      "needs_background": "light"
     },
     "output_type": "display_data"
    }
   ],
   "source": [
    "plt.figure(figsize=(10, 5))\n",
    "sns.lineplot(data=mnist_s_series)\n",
    "plt.show()"
   ]
  },
  {
   "cell_type": "code",
   "execution_count": 10,
   "metadata": {
    "ExecuteTime": {
     "end_time": "2020-05-03T13:00:45.623527Z",
     "start_time": "2020-05-03T13:00:45.611522Z"
    }
   },
   "outputs": [],
   "source": [
    "class SgdToHalf(torch.optim.Optimizer):\n",
    "    def __init__(self, params, lr, burn_in=1):\n",
    "        self.params = params\n",
    "        self.lr = lr\n",
    "        self.burn_in = burn_in\n",
    "        self.n = 1\n",
    "        self.s = 0\n",
    "        self.tau = 0\n",
    "        self.prev_grad = None\n",
    "        defaults = {\"lr\": lr, \"burn_in\": burn_in, \"n\": 1, \"s\": 0, \"tau\": 0, \"prev_grad\": None}\n",
    "        super(SgdToHalf, self).__init__(params, defaults)\n",
    "\n",
    "    def __setstate__(self, state):\n",
    "        super(SgdToHalf, self).__setstate__(state)\n",
    "        \n",
    "    @torch.no_grad()\n",
    "    def step(self, closure=None):\n",
    "        \"\"\"Performs a single optimization step.\n",
    "\n",
    "        Arguments:\n",
    "            closure (callable, optional): A closure that reevaluates the model\n",
    "                and returns the loss.\n",
    "        \"\"\"\n",
    "        loss = None\n",
    "        if closure is not None:\n",
    "            with torch.enable_grad():\n",
    "                loss = closure()\n",
    "\n",
    "        group = self.param_groups[0]\n",
    "        lr = group[\"lr\"]\n",
    "        burn_in = group[\"burn_in\"]\n",
    "        n = group[\"n\"]\n",
    "        s = group[\"s\"]\n",
    "        tau = group[\"tau\"]\n",
    "        \n",
    "        params = group[\"params\"]\n",
    "        for p in params:\n",
    "            if p.grad is None:\n",
    "                continue\n",
    "            g_p = p.grad\n",
    "            p.add_(g_p, alpha=-lr)\n",
    "        \n",
    "        g = deep_model_param_loss_gradients_to_flat_vector(params)\n",
    "        if n == 1:\n",
    "            self.prev_grad = group[\"prev_grad\"] = torch.clone(g).detach()\n",
    "        else:\n",
    "            g_prev = group[\"prev_grad\"]\n",
    "            s += torch.dot(g.view(-1), g_prev.view(-1))\n",
    "            if n > (tau + burn_in) and s < 0:\n",
    "                self.tau = group[\"tau\"] = n\n",
    "                s = 0\n",
    "                self.lr = group[\"lr\"] = lr / 2\n",
    "            self.s = group[\"s\"] = s\n",
    "            self.prev_grad = group[\"prev_grad\"] = torch.clone(g).detach()\n",
    "            \n",
    "        self.n = group[\"n\"] = n+1\n",
    "                \n",
    "        return loss\n",
    "\n",
    "    def converged(self):\n",
    "        return self.n > (self.tau + self.burn_in) and self.s < 0 and self.lr < 1e-10"
   ]
  },
  {
   "cell_type": "code",
   "execution_count": 45,
   "metadata": {
    "ExecuteTime": {
     "end_time": "2020-05-02T22:23:30.643159Z",
     "start_time": "2020-05-02T22:22:49.324161Z"
    }
   },
   "outputs": [
    {
     "name": "stdout",
     "output_type": "stream",
     "text": [
      "Epoch 1 Loss: 13.286364436149597\n",
      "Epoch 2 Loss: 6.921902656555176\n",
      "Epoch 3 Loss: 5.573513209819794\n",
      "Epoch 4 Loss: 4.862002283334732\n",
      "Epoch 5 Loss: 4.4032759964466095\n",
      "Epoch 6 Loss: 4.0768440663814545\n",
      "Epoch 7 Loss: 3.850387156009674\n",
      "Epoch 8 Loss: 3.6797103583812714\n",
      "Epoch 9 Loss: 3.5291371047496796\n",
      "Epoch 10 Loss: 3.3769662380218506\n",
      "Epoch 11 Loss: 3.2996226251125336\n",
      "Epoch 12 Loss: 3.2142632007598877\n",
      "Epoch 13 Loss: 3.09516841173172\n",
      "Epoch 14 Loss: 3.0241662561893463\n",
      "Epoch 15 Loss: 2.975294589996338\n",
      "Epoch 16 Loss: 2.883358806371689\n",
      "Epoch 17 Loss: 2.8433918952941895\n",
      "Epoch 18 Loss: 2.7980430126190186\n",
      "Epoch 19 Loss: 2.720885992050171\n",
      "Epoch 20 Loss: 2.6864026486873627\n",
      "Epoch 21 Loss: 2.63807013630867\n",
      "Epoch 22 Loss: 2.6077900826931\n",
      "Epoch 23 Loss: 2.5481671690940857\n",
      "Epoch 24 Loss: 2.494541674852371\n",
      "Epoch 25 Loss: 2.4783617854118347\n"
     ]
    }
   ],
   "source": [
    "fashion_mnist_train_input, fashion_mnist_test_input = standardize_data(fashion_mnist_train_input, fashion_mnist_test_input)\n",
    "fashion_mnist_train_input = fashion_mnist_train_input.cuda()\n",
    "fashion_mnist_train_target = fashion_mnist_train_target.cuda()\n",
    "fashion_mnist_test_input = fashion_mnist_test_input.cuda()\n",
    "fashion_mnist_test_target = fashion_mnist_test_target.cuda()\n",
    "fashion_mnist_model, fashion_mnist_training_loss_grads = train_model(MnistClassifier().cuda(),\n",
    "                                                                     fashion_mnist_train_input,\n",
    "                                                                     fashion_mnist_train_target, lr=0.05)"
   ]
  },
  {
   "cell_type": "code",
   "execution_count": 46,
   "metadata": {
    "ExecuteTime": {
     "end_time": "2020-05-02T22:23:44.455695Z",
     "start_time": "2020-05-02T22:23:44.377906Z"
    }
   },
   "outputs": [
    {
     "data": {
      "text/plain": [
       "0.8833999633789062"
      ]
     },
     "execution_count": 46,
     "metadata": {},
     "output_type": "execute_result"
    }
   ],
   "source": [
    "test_model(fashion_mnist_model, fashion_mnist_test_input, fashion_mnist_test_target)"
   ]
  },
  {
   "cell_type": "code",
   "execution_count": 47,
   "metadata": {
    "ExecuteTime": {
     "end_time": "2020-05-02T22:23:47.615500Z",
     "start_time": "2020-05-02T22:23:47.592561Z"
    }
   },
   "outputs": [
    {
     "data": {
      "text/plain": [
       "101"
      ]
     },
     "execution_count": 47,
     "metadata": {},
     "output_type": "execute_result"
    }
   ],
   "source": [
    "fashion_mnist_conv_thresh, fashion_mnist_s_series = estimate_convergence_threshold_phlug_diagnostic(fashion_mnist_training_loss_grads,\n",
    "                                                                                                    burn_in=10)\n",
    "fashion_mnist_conv_thresh"
   ]
  },
  {
   "cell_type": "code",
   "execution_count": 48,
   "metadata": {
    "ExecuteTime": {
     "end_time": "2020-05-02T22:23:51.166438Z",
     "start_time": "2020-05-02T22:23:50.959029Z"
    }
   },
   "outputs": [
    {
     "data": {
      "image/png": "[encoded data removed]",
      "text/plain": [
       "<Figure size 720x360 with 1 Axes>"
      ]
     },
     "metadata": {
      "needs_background": "light"
     },
     "output_type": "display_data"
    }
   ],
   "source": [
    "plt.figure(figsize=(10, 5))\n",
    "sns.lineplot(data=fashion_mnist_s_series)\n",
    "plt.show()"
   ]
  }
 ],
 "metadata": {
  "kernelspec": {
   "display_name": "Python 3",
   "language": "python",
   "name": "python3"
  },
  "language_info": {
   "codemirror_mode": {
    "name": "ipython",
    "version": 3
   },
   "file_extension": ".py",
   "mimetype": "text/x-python",
   "name": "python",
   "nbconvert_exporter": "python",
   "pygments_lexer": "ipython3",
   "version": "3.7.1"
  },
  "toc": {
   "base_numbering": 1,
   "nav_menu": {},
   "number_sections": false,
   "sideBar": true,
   "skip_h1_title": false,
   "title_cell": "Table of Contents",
   "title_sidebar": "Contents",
   "toc_cell": false,
   "toc_position": {},
   "toc_section_display": true,
   "toc_window_display": false
  },
  "varInspector": {
   "cols": {
    "lenName": 16,
    "lenType": 16,
    "lenVar": 40
   },
   "kernels_config": {
    "python": {
     "delete_cmd_postfix": "",
     "delete_cmd_prefix": "del ",
     "library": "var_list.py",
     "varRefreshCmd": "print(var_dic_list())"
    },
    "r": {
     "delete_cmd_postfix": ") ",
     "delete_cmd_prefix": "rm(",
     "library": "var_list.r",
     "varRefreshCmd": "cat(var_dic_list()) "
    }
   },
   "types_to_exclude": [
    "module",
    "function",
    "builtin_function_or_method",
    "instance",
    "_Feature"
   ],
   "window_display": false
  }
 },
 "nbformat": 4,
 "nbformat_minor": 4
}
